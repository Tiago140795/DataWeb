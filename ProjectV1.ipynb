{
 "cells": [
  {
   "cell_type": "code",
   "execution_count": 35,
   "id": "0b7784df-e8d7-4315-ad9e-1c66401fb46f",
   "metadata": {},
   "outputs": [],
   "source": [
    "import pandas as pd\n",
    "import numpy as np\n",
    "from numpy import genfromtxt\n",
    "from scipy.io.arff import loadarff\n",
    "#from pymfe.mfe import MFE\n",
    "#import arff\n",
    "\n",
    "file1 = 'file1.arff'\n",
    "file2 = 'Project.arff'\n",
    "#raw_data = arff.load(open(file1, 'r'))['data']\n",
    "raw_data = loadarff(file1)\n",
    "weka_data = loadarff(file2)\n",
    "df_data = pd.DataFrame(raw_data[0])\n",
    "str_df = df_data.select_dtypes([object,np.float64])\n",
    "str_df = str_df.stack().str.decode('utf-8').unstack()\n",
    "df_data.select_dtypes([object,np.float64])\n",
    "df_weka = pd.DataFrame(weka_data[0])"
   ]
  },
  {
   "cell_type": "code",
   "execution_count": 46,
   "id": "0f8cc1c7",
   "metadata": {},
   "outputs": [],
   "source": [
    "#print (str_df['DESCR'])"
   ]
  },
  {
   "cell_type": "code",
   "execution_count": 36,
   "id": "cb1b4c2a-f03a-4bba-89f7-c1108df0918e",
   "metadata": {
    "scrolled": true
   },
   "outputs": [
    {
     "data": {
      "text/html": [
       "<div>\n",
       "<style scoped>\n",
       "    .dataframe tbody tr th:only-of-type {\n",
       "        vertical-align: middle;\n",
       "    }\n",
       "\n",
       "    .dataframe tbody tr th {\n",
       "        vertical-align: top;\n",
       "    }\n",
       "\n",
       "    .dataframe thead th {\n",
       "        text-align: right;\n",
       "    }\n",
       "</style>\n",
       "<table border=\"1\" class=\"dataframe\">\n",
       "  <thead>\n",
       "    <tr style=\"text-align: right;\">\n",
       "      <th></th>\n",
       "      <th>MS_SubClass</th>\n",
       "      <th>MS_Zoning</th>\n",
       "      <th>Lot_Frontage</th>\n",
       "      <th>Lot_Area</th>\n",
       "      <th>Street</th>\n",
       "      <th>Alley</th>\n",
       "      <th>Lot_Shape</th>\n",
       "      <th>Land_Contour</th>\n",
       "      <th>Utilities</th>\n",
       "      <th>Lot_Config</th>\n",
       "      <th>...</th>\n",
       "      <th>Fence</th>\n",
       "      <th>Misc_Feature</th>\n",
       "      <th>Misc_Val</th>\n",
       "      <th>Mo_Sold</th>\n",
       "      <th>Year_Sold</th>\n",
       "      <th>Sale_Type</th>\n",
       "      <th>Sale_Condition</th>\n",
       "      <th>Sale_Price</th>\n",
       "      <th>Longitude</th>\n",
       "      <th>Latitude</th>\n",
       "    </tr>\n",
       "  </thead>\n",
       "  <tbody>\n",
       "    <tr>\n",
       "      <th>0</th>\n",
       "      <td>b'One_Story_1946_and_Newer_All_Styles'</td>\n",
       "      <td>b'Residential_Low_Density'</td>\n",
       "      <td>141.0</td>\n",
       "      <td>31770.0</td>\n",
       "      <td>b'Pave'</td>\n",
       "      <td>b'No_Alley_Access'</td>\n",
       "      <td>b'Slightly_Irregular'</td>\n",
       "      <td>b'Lvl'</td>\n",
       "      <td>b'AllPub'</td>\n",
       "      <td>b'Corner'</td>\n",
       "      <td>...</td>\n",
       "      <td>b'No_Fence'</td>\n",
       "      <td>b'None'</td>\n",
       "      <td>0.0</td>\n",
       "      <td>5.0</td>\n",
       "      <td>2010.0</td>\n",
       "      <td>b'WD '</td>\n",
       "      <td>b'Normal'</td>\n",
       "      <td>215000.0</td>\n",
       "      <td>-93.619754</td>\n",
       "      <td>42.054035</td>\n",
       "    </tr>\n",
       "    <tr>\n",
       "      <th>1</th>\n",
       "      <td>b'One_Story_1946_and_Newer_All_Styles'</td>\n",
       "      <td>b'Residential_High_Density'</td>\n",
       "      <td>80.0</td>\n",
       "      <td>11622.0</td>\n",
       "      <td>b'Pave'</td>\n",
       "      <td>b'No_Alley_Access'</td>\n",
       "      <td>b'Regular'</td>\n",
       "      <td>b'Lvl'</td>\n",
       "      <td>b'AllPub'</td>\n",
       "      <td>b'Inside'</td>\n",
       "      <td>...</td>\n",
       "      <td>b'Minimum_Privacy'</td>\n",
       "      <td>b'None'</td>\n",
       "      <td>0.0</td>\n",
       "      <td>6.0</td>\n",
       "      <td>2010.0</td>\n",
       "      <td>b'WD '</td>\n",
       "      <td>b'Normal'</td>\n",
       "      <td>105000.0</td>\n",
       "      <td>-93.619756</td>\n",
       "      <td>42.053014</td>\n",
       "    </tr>\n",
       "    <tr>\n",
       "      <th>2</th>\n",
       "      <td>b'One_Story_1946_and_Newer_All_Styles'</td>\n",
       "      <td>b'Residential_Low_Density'</td>\n",
       "      <td>81.0</td>\n",
       "      <td>14267.0</td>\n",
       "      <td>b'Pave'</td>\n",
       "      <td>b'No_Alley_Access'</td>\n",
       "      <td>b'Slightly_Irregular'</td>\n",
       "      <td>b'Lvl'</td>\n",
       "      <td>b'AllPub'</td>\n",
       "      <td>b'Corner'</td>\n",
       "      <td>...</td>\n",
       "      <td>b'No_Fence'</td>\n",
       "      <td>b'Gar2'</td>\n",
       "      <td>12500.0</td>\n",
       "      <td>6.0</td>\n",
       "      <td>2010.0</td>\n",
       "      <td>b'WD '</td>\n",
       "      <td>b'Normal'</td>\n",
       "      <td>172000.0</td>\n",
       "      <td>-93.619387</td>\n",
       "      <td>42.052659</td>\n",
       "    </tr>\n",
       "    <tr>\n",
       "      <th>3</th>\n",
       "      <td>b'One_Story_1946_and_Newer_All_Styles'</td>\n",
       "      <td>b'Residential_Low_Density'</td>\n",
       "      <td>93.0</td>\n",
       "      <td>11160.0</td>\n",
       "      <td>b'Pave'</td>\n",
       "      <td>b'No_Alley_Access'</td>\n",
       "      <td>b'Regular'</td>\n",
       "      <td>b'Lvl'</td>\n",
       "      <td>b'AllPub'</td>\n",
       "      <td>b'Corner'</td>\n",
       "      <td>...</td>\n",
       "      <td>b'No_Fence'</td>\n",
       "      <td>b'None'</td>\n",
       "      <td>0.0</td>\n",
       "      <td>4.0</td>\n",
       "      <td>2010.0</td>\n",
       "      <td>b'WD '</td>\n",
       "      <td>b'Normal'</td>\n",
       "      <td>244000.0</td>\n",
       "      <td>-93.617320</td>\n",
       "      <td>42.051245</td>\n",
       "    </tr>\n",
       "    <tr>\n",
       "      <th>4</th>\n",
       "      <td>b'Two_Story_1946_and_Newer'</td>\n",
       "      <td>b'Residential_Low_Density'</td>\n",
       "      <td>74.0</td>\n",
       "      <td>13830.0</td>\n",
       "      <td>b'Pave'</td>\n",
       "      <td>b'No_Alley_Access'</td>\n",
       "      <td>b'Slightly_Irregular'</td>\n",
       "      <td>b'Lvl'</td>\n",
       "      <td>b'AllPub'</td>\n",
       "      <td>b'Inside'</td>\n",
       "      <td>...</td>\n",
       "      <td>b'Minimum_Privacy'</td>\n",
       "      <td>b'None'</td>\n",
       "      <td>0.0</td>\n",
       "      <td>3.0</td>\n",
       "      <td>2010.0</td>\n",
       "      <td>b'WD '</td>\n",
       "      <td>b'Normal'</td>\n",
       "      <td>189900.0</td>\n",
       "      <td>-93.638933</td>\n",
       "      <td>42.060899</td>\n",
       "    </tr>\n",
       "  </tbody>\n",
       "</table>\n",
       "<p>5 rows × 81 columns</p>\n",
       "</div>"
      ],
      "text/plain": [
       "                              MS_SubClass                    MS_Zoning  \\\n",
       "0  b'One_Story_1946_and_Newer_All_Styles'   b'Residential_Low_Density'   \n",
       "1  b'One_Story_1946_and_Newer_All_Styles'  b'Residential_High_Density'   \n",
       "2  b'One_Story_1946_and_Newer_All_Styles'   b'Residential_Low_Density'   \n",
       "3  b'One_Story_1946_and_Newer_All_Styles'   b'Residential_Low_Density'   \n",
       "4             b'Two_Story_1946_and_Newer'   b'Residential_Low_Density'   \n",
       "\n",
       "   Lot_Frontage  Lot_Area   Street               Alley              Lot_Shape  \\\n",
       "0         141.0   31770.0  b'Pave'  b'No_Alley_Access'  b'Slightly_Irregular'   \n",
       "1          80.0   11622.0  b'Pave'  b'No_Alley_Access'             b'Regular'   \n",
       "2          81.0   14267.0  b'Pave'  b'No_Alley_Access'  b'Slightly_Irregular'   \n",
       "3          93.0   11160.0  b'Pave'  b'No_Alley_Access'             b'Regular'   \n",
       "4          74.0   13830.0  b'Pave'  b'No_Alley_Access'  b'Slightly_Irregular'   \n",
       "\n",
       "  Land_Contour  Utilities Lot_Config  ...               Fence Misc_Feature  \\\n",
       "0       b'Lvl'  b'AllPub'  b'Corner'  ...         b'No_Fence'      b'None'   \n",
       "1       b'Lvl'  b'AllPub'  b'Inside'  ...  b'Minimum_Privacy'      b'None'   \n",
       "2       b'Lvl'  b'AllPub'  b'Corner'  ...         b'No_Fence'      b'Gar2'   \n",
       "3       b'Lvl'  b'AllPub'  b'Corner'  ...         b'No_Fence'      b'None'   \n",
       "4       b'Lvl'  b'AllPub'  b'Inside'  ...  b'Minimum_Privacy'      b'None'   \n",
       "\n",
       "  Misc_Val Mo_Sold Year_Sold Sale_Type Sale_Condition Sale_Price  Longitude  \\\n",
       "0      0.0     5.0    2010.0    b'WD '      b'Normal'   215000.0 -93.619754   \n",
       "1      0.0     6.0    2010.0    b'WD '      b'Normal'   105000.0 -93.619756   \n",
       "2  12500.0     6.0    2010.0    b'WD '      b'Normal'   172000.0 -93.619387   \n",
       "3      0.0     4.0    2010.0    b'WD '      b'Normal'   244000.0 -93.617320   \n",
       "4      0.0     3.0    2010.0    b'WD '      b'Normal'   189900.0 -93.638933   \n",
       "\n",
       "    Latitude  \n",
       "0  42.054035  \n",
       "1  42.053014  \n",
       "2  42.052659  \n",
       "3  42.051245  \n",
       "4  42.060899  \n",
       "\n",
       "[5 rows x 81 columns]"
      ]
     },
     "execution_count": 36,
     "metadata": {},
     "output_type": "execute_result"
    }
   ],
   "source": [
    "df_weka.head()"
   ]
  },
  {
   "cell_type": "code",
   "execution_count": 38,
   "id": "a6ac5118-e655-4151-bdb7-678a829bf559",
   "metadata": {
    "scrolled": false
   },
   "outputs": [
    {
     "data": {
      "text/html": [
       "<div>\n",
       "<style scoped>\n",
       "    .dataframe tbody tr th:only-of-type {\n",
       "        vertical-align: middle;\n",
       "    }\n",
       "\n",
       "    .dataframe tbody tr th {\n",
       "        vertical-align: top;\n",
       "    }\n",
       "\n",
       "    .dataframe thead th {\n",
       "        text-align: right;\n",
       "    }\n",
       "</style>\n",
       "<table border=\"1\" class=\"dataframe\">\n",
       "  <thead>\n",
       "    <tr style=\"text-align: right;\">\n",
       "      <th></th>\n",
       "      <th>MS_SubClass</th>\n",
       "      <th>MS_Zoning</th>\n",
       "      <th>Lot_Frontage</th>\n",
       "      <th>Lot_Area</th>\n",
       "      <th>Street</th>\n",
       "      <th>Alley</th>\n",
       "      <th>Lot_Shape</th>\n",
       "      <th>Land_Contour</th>\n",
       "      <th>Utilities</th>\n",
       "      <th>Lot_Config</th>\n",
       "      <th>...</th>\n",
       "      <th>Fence</th>\n",
       "      <th>Misc_Feature</th>\n",
       "      <th>Misc_Val</th>\n",
       "      <th>Mo_Sold</th>\n",
       "      <th>Year_Sold</th>\n",
       "      <th>Sale_Type</th>\n",
       "      <th>Sale_Condition</th>\n",
       "      <th>Sale_Price</th>\n",
       "      <th>Longitude</th>\n",
       "      <th>Latitude</th>\n",
       "    </tr>\n",
       "  </thead>\n",
       "  <tbody>\n",
       "    <tr>\n",
       "      <th>0</th>\n",
       "      <td>b'One_Story_1946_and_Newer_All_Styles'</td>\n",
       "      <td>b'Residential_Low_Density'</td>\n",
       "      <td>141.0</td>\n",
       "      <td>31770.0</td>\n",
       "      <td>b'Pave'</td>\n",
       "      <td>b'No_Alley_Access'</td>\n",
       "      <td>b'Slightly_Irregular'</td>\n",
       "      <td>b'Lvl'</td>\n",
       "      <td>b'AllPub'</td>\n",
       "      <td>b'Corner'</td>\n",
       "      <td>...</td>\n",
       "      <td>b'No_Fence'</td>\n",
       "      <td>b'None'</td>\n",
       "      <td>0.0</td>\n",
       "      <td>5.0</td>\n",
       "      <td>2010.0</td>\n",
       "      <td>b'WD '</td>\n",
       "      <td>b'Normal'</td>\n",
       "      <td>215000.0</td>\n",
       "      <td>-93.619754</td>\n",
       "      <td>42.054035</td>\n",
       "    </tr>\n",
       "    <tr>\n",
       "      <th>1</th>\n",
       "      <td>b'One_Story_1946_and_Newer_All_Styles'</td>\n",
       "      <td>b'Residential_High_Density'</td>\n",
       "      <td>80.0</td>\n",
       "      <td>11622.0</td>\n",
       "      <td>b'Pave'</td>\n",
       "      <td>b'No_Alley_Access'</td>\n",
       "      <td>b'Regular'</td>\n",
       "      <td>b'Lvl'</td>\n",
       "      <td>b'AllPub'</td>\n",
       "      <td>b'Inside'</td>\n",
       "      <td>...</td>\n",
       "      <td>b'Minimum_Privacy'</td>\n",
       "      <td>b'None'</td>\n",
       "      <td>0.0</td>\n",
       "      <td>6.0</td>\n",
       "      <td>2010.0</td>\n",
       "      <td>b'WD '</td>\n",
       "      <td>b'Normal'</td>\n",
       "      <td>105000.0</td>\n",
       "      <td>-93.619756</td>\n",
       "      <td>42.053014</td>\n",
       "    </tr>\n",
       "    <tr>\n",
       "      <th>2</th>\n",
       "      <td>b'One_Story_1946_and_Newer_All_Styles'</td>\n",
       "      <td>b'Residential_Low_Density'</td>\n",
       "      <td>81.0</td>\n",
       "      <td>14267.0</td>\n",
       "      <td>b'Pave'</td>\n",
       "      <td>b'No_Alley_Access'</td>\n",
       "      <td>b'Slightly_Irregular'</td>\n",
       "      <td>b'Lvl'</td>\n",
       "      <td>b'AllPub'</td>\n",
       "      <td>b'Corner'</td>\n",
       "      <td>...</td>\n",
       "      <td>b'No_Fence'</td>\n",
       "      <td>b'Gar2'</td>\n",
       "      <td>12500.0</td>\n",
       "      <td>6.0</td>\n",
       "      <td>2010.0</td>\n",
       "      <td>b'WD '</td>\n",
       "      <td>b'Normal'</td>\n",
       "      <td>172000.0</td>\n",
       "      <td>-93.619387</td>\n",
       "      <td>42.052659</td>\n",
       "    </tr>\n",
       "    <tr>\n",
       "      <th>3</th>\n",
       "      <td>b'One_Story_1946_and_Newer_All_Styles'</td>\n",
       "      <td>b'Residential_Low_Density'</td>\n",
       "      <td>93.0</td>\n",
       "      <td>11160.0</td>\n",
       "      <td>b'Pave'</td>\n",
       "      <td>b'No_Alley_Access'</td>\n",
       "      <td>b'Regular'</td>\n",
       "      <td>b'Lvl'</td>\n",
       "      <td>b'AllPub'</td>\n",
       "      <td>b'Corner'</td>\n",
       "      <td>...</td>\n",
       "      <td>b'No_Fence'</td>\n",
       "      <td>b'None'</td>\n",
       "      <td>0.0</td>\n",
       "      <td>4.0</td>\n",
       "      <td>2010.0</td>\n",
       "      <td>b'WD '</td>\n",
       "      <td>b'Normal'</td>\n",
       "      <td>244000.0</td>\n",
       "      <td>-93.617320</td>\n",
       "      <td>42.051245</td>\n",
       "    </tr>\n",
       "    <tr>\n",
       "      <th>4</th>\n",
       "      <td>b'Two_Story_1946_and_Newer'</td>\n",
       "      <td>b'Residential_Low_Density'</td>\n",
       "      <td>74.0</td>\n",
       "      <td>13830.0</td>\n",
       "      <td>b'Pave'</td>\n",
       "      <td>b'No_Alley_Access'</td>\n",
       "      <td>b'Slightly_Irregular'</td>\n",
       "      <td>b'Lvl'</td>\n",
       "      <td>b'AllPub'</td>\n",
       "      <td>b'Inside'</td>\n",
       "      <td>...</td>\n",
       "      <td>b'Minimum_Privacy'</td>\n",
       "      <td>b'None'</td>\n",
       "      <td>0.0</td>\n",
       "      <td>3.0</td>\n",
       "      <td>2010.0</td>\n",
       "      <td>b'WD '</td>\n",
       "      <td>b'Normal'</td>\n",
       "      <td>189900.0</td>\n",
       "      <td>-93.638933</td>\n",
       "      <td>42.060899</td>\n",
       "    </tr>\n",
       "  </tbody>\n",
       "</table>\n",
       "<p>5 rows × 81 columns</p>\n",
       "</div>"
      ],
      "text/plain": [
       "                              MS_SubClass                    MS_Zoning  \\\n",
       "0  b'One_Story_1946_and_Newer_All_Styles'   b'Residential_Low_Density'   \n",
       "1  b'One_Story_1946_and_Newer_All_Styles'  b'Residential_High_Density'   \n",
       "2  b'One_Story_1946_and_Newer_All_Styles'   b'Residential_Low_Density'   \n",
       "3  b'One_Story_1946_and_Newer_All_Styles'   b'Residential_Low_Density'   \n",
       "4             b'Two_Story_1946_and_Newer'   b'Residential_Low_Density'   \n",
       "\n",
       "   Lot_Frontage  Lot_Area   Street               Alley              Lot_Shape  \\\n",
       "0         141.0   31770.0  b'Pave'  b'No_Alley_Access'  b'Slightly_Irregular'   \n",
       "1          80.0   11622.0  b'Pave'  b'No_Alley_Access'             b'Regular'   \n",
       "2          81.0   14267.0  b'Pave'  b'No_Alley_Access'  b'Slightly_Irregular'   \n",
       "3          93.0   11160.0  b'Pave'  b'No_Alley_Access'             b'Regular'   \n",
       "4          74.0   13830.0  b'Pave'  b'No_Alley_Access'  b'Slightly_Irregular'   \n",
       "\n",
       "  Land_Contour  Utilities Lot_Config  ...               Fence Misc_Feature  \\\n",
       "0       b'Lvl'  b'AllPub'  b'Corner'  ...         b'No_Fence'      b'None'   \n",
       "1       b'Lvl'  b'AllPub'  b'Inside'  ...  b'Minimum_Privacy'      b'None'   \n",
       "2       b'Lvl'  b'AllPub'  b'Corner'  ...         b'No_Fence'      b'Gar2'   \n",
       "3       b'Lvl'  b'AllPub'  b'Corner'  ...         b'No_Fence'      b'None'   \n",
       "4       b'Lvl'  b'AllPub'  b'Inside'  ...  b'Minimum_Privacy'      b'None'   \n",
       "\n",
       "  Misc_Val Mo_Sold Year_Sold Sale_Type Sale_Condition Sale_Price  Longitude  \\\n",
       "0      0.0     5.0    2010.0    b'WD '      b'Normal'   215000.0 -93.619754   \n",
       "1      0.0     6.0    2010.0    b'WD '      b'Normal'   105000.0 -93.619756   \n",
       "2  12500.0     6.0    2010.0    b'WD '      b'Normal'   172000.0 -93.619387   \n",
       "3      0.0     4.0    2010.0    b'WD '      b'Normal'   244000.0 -93.617320   \n",
       "4      0.0     3.0    2010.0    b'WD '      b'Normal'   189900.0 -93.638933   \n",
       "\n",
       "    Latitude  \n",
       "0  42.054035  \n",
       "1  42.053014  \n",
       "2  42.052659  \n",
       "3  42.051245  \n",
       "4  42.060899  \n",
       "\n",
       "[5 rows x 81 columns]"
      ]
     },
     "execution_count": 38,
     "metadata": {},
     "output_type": "execute_result"
    }
   ],
   "source": [
    "from sklearn.ensemble import RandomForestClassifier\n",
    "from sklearn.metrics import accuracy_score\n",
    "new_data = df_data\n",
    "new_data.head()"
   ]
  },
  {
   "cell_type": "code",
   "execution_count": 43,
   "id": "f093daf1-8069-4ed9-9c94-3df3545c73df",
   "metadata": {},
   "outputs": [],
   "source": [
    "predictors = ['MS_SubClass', 'MS_Zoning', 'Lot_Frontage', 'Lot_Area', 'Street',\n",
    "       'Alley', 'Lot_Shape', 'Land_Contour', 'Utilities', 'Lot_Config',\n",
    "       'Land_Slope', 'Neighborhood', 'Condition_1', 'Condition_2', 'Bldg_Type',\n",
    "       'House_Style', 'Overall_Qual', 'Overall_Cond', 'Year_Built',\n",
    "       'Year_Remod_Add', 'Roof_Style', 'Roof_Matl', 'Exterior_1st',\n",
    "       'Exterior_2nd', 'Mas_Vnr_Type', 'Mas_Vnr_Area', 'Exter_Qual',\n",
    "       'Exter_Cond', 'Foundation', 'Bsmt_Qual', 'Bsmt_Cond', 'Bsmt_Exposure',\n",
    "       'BsmtFin_Type_1', 'BsmtFin_SF_1', 'BsmtFin_Type_2', 'BsmtFin_SF_2',\n",
    "       'Bsmt_Unf_SF', 'Total_Bsmt_SF', 'Heating', 'Heating_QC', 'Central_Air',\n",
    "       'Electrical', 'First_Flr_SF', 'Second_Flr_SF', 'Low_Qual_Fin_SF',\n",
    "       'Gr_Liv_Area', 'Bsmt_Full_Bath', 'Bsmt_Half_Bath', 'Full_Bath',\n",
    "       'Half_Bath', 'Bedroom_AbvGr', 'Kitchen_AbvGr', 'Kitchen_Qual',\n",
    "       'TotRms_AbvGrd', 'Functional', 'Fireplaces', 'Fireplace_Qu',\n",
    "       'Garage_Type', 'Garage_Finish', 'Garage_Cars', 'Garage_Area',\n",
    "       'Garage_Qual', 'Garage_Cond', 'Paved_Drive', 'Wood_Deck_SF',\n",
    "       'Open_Porch_SF', 'Enclosed_Porch', 'Three_season_porch', 'Screen_Porch',\n",
    "       'Pool_Area', 'Pool_QC', 'Fence', 'Misc_Feature', 'Misc_Val', 'Mo_Sold',\n",
    "       'Year_Sold', 'Sale_Type', 'Sale_Condition', 'Longitude',\n",
    "       'Latitude']\n",
    "target =  'Sale_Price'"
   ]
  },
  {
   "cell_type": "code",
   "execution_count": 58,
   "id": "88939e1a-11f8-4aeb-930b-9eda7e4d82a3",
   "metadata": {},
   "outputs": [],
   "source": [
    "import matplotlib.pyplot as plt\n",
    "import seaborn as sns\n",
    "from sklearn.model_selection import train_test_split\n",
    "from sklearn.preprocessing import LabelEncoder\n",
    "\n",
    "from sklearn.metrics import classification_report, confusion_matrix, precision_recall_curve, auc, roc_curve\n",
    "from sklearn.tree import DecisionTreeClassifier, export_graphviz\n",
    "#import graphviz\n"
   ]
  },
  {
   "cell_type": "code",
   "execution_count": 4,
   "id": "8bd166ac-fb63-4ccb-ac02-e749533abf1b",
   "metadata": {
    "scrolled": true
   },
   "outputs": [
    {
     "data": {
      "text/plain": [
       "Index(['MS_SubClass', 'MS_Zoning', 'Lot_Frontage', 'Lot_Area', 'Street',\n",
       "       'Alley', 'Lot_Shape', 'Land_Contour', 'Utilities', 'Lot_Config',\n",
       "       'Land_Slope', 'Neighborhood', 'Condition_1', 'Condition_2', 'Bldg_Type',\n",
       "       'House_Style', 'Overall_Qual', 'Overall_Cond', 'Year_Built',\n",
       "       'Year_Remod_Add', 'Roof_Style', 'Roof_Matl', 'Exterior_1st',\n",
       "       'Exterior_2nd', 'Mas_Vnr_Type', 'Mas_Vnr_Area', 'Exter_Qual',\n",
       "       'Exter_Cond', 'Foundation', 'Bsmt_Qual', 'Bsmt_Cond', 'Bsmt_Exposure',\n",
       "       'BsmtFin_Type_1', 'BsmtFin_SF_1', 'BsmtFin_Type_2', 'BsmtFin_SF_2',\n",
       "       'Bsmt_Unf_SF', 'Total_Bsmt_SF', 'Heating', 'Heating_QC', 'Central_Air',\n",
       "       'Electrical', 'First_Flr_SF', 'Second_Flr_SF', 'Low_Qual_Fin_SF',\n",
       "       'Gr_Liv_Area', 'Bsmt_Full_Bath', 'Bsmt_Half_Bath', 'Full_Bath',\n",
       "       'Half_Bath', 'Bedroom_AbvGr', 'Kitchen_AbvGr', 'Kitchen_Qual',\n",
       "       'TotRms_AbvGrd', 'Functional', 'Fireplaces', 'Fireplace_Qu',\n",
       "       'Garage_Type', 'Garage_Finish', 'Garage_Cars', 'Garage_Area',\n",
       "       'Garage_Qual', 'Garage_Cond', 'Paved_Drive', 'Wood_Deck_SF',\n",
       "       'Open_Porch_SF', 'Enclosed_Porch', 'Three_season_porch', 'Screen_Porch',\n",
       "       'Pool_Area', 'Pool_QC', 'Fence', 'Misc_Feature', 'Misc_Val', 'Mo_Sold',\n",
       "       'Year_Sold', 'Sale_Type', 'Sale_Condition', 'Sale_Price', 'Longitude',\n",
       "       'Latitude'],\n",
       "      dtype='object')"
      ]
     },
     "execution_count": 4,
     "metadata": {},
     "output_type": "execute_result"
    }
   ],
   "source": [
    "new_data.columns"
   ]
  },
  {
   "cell_type": "code",
   "execution_count": 47,
   "id": "d29e3aa8-0a1d-460e-ac10-6bc4e3bf5d5e",
   "metadata": {},
   "outputs": [],
   "source": [
    "labelencoder=LabelEncoder()\n",
    "for column in df_data.columns:\n",
    "    df_data[column] = labelencoder.fit_transform(df_data[column])"
   ]
  },
  {
   "cell_type": "code",
   "execution_count": 48,
   "id": "fe59e8d8-bc48-4bcc-a128-a219ffeaeb3a",
   "metadata": {
    "scrolled": true
   },
   "outputs": [
    {
     "data": {
      "text/html": [
       "<div>\n",
       "<style scoped>\n",
       "    .dataframe tbody tr th:only-of-type {\n",
       "        vertical-align: middle;\n",
       "    }\n",
       "\n",
       "    .dataframe tbody tr th {\n",
       "        vertical-align: top;\n",
       "    }\n",
       "\n",
       "    .dataframe thead th {\n",
       "        text-align: right;\n",
       "    }\n",
       "</style>\n",
       "<table border=\"1\" class=\"dataframe\">\n",
       "  <thead>\n",
       "    <tr style=\"text-align: right;\">\n",
       "      <th></th>\n",
       "      <th>MS_SubClass</th>\n",
       "      <th>MS_Zoning</th>\n",
       "      <th>Lot_Frontage</th>\n",
       "      <th>Lot_Area</th>\n",
       "      <th>Street</th>\n",
       "      <th>Alley</th>\n",
       "      <th>Lot_Shape</th>\n",
       "      <th>Land_Contour</th>\n",
       "      <th>Utilities</th>\n",
       "      <th>Lot_Config</th>\n",
       "      <th>...</th>\n",
       "      <th>Fence</th>\n",
       "      <th>Misc_Feature</th>\n",
       "      <th>Misc_Val</th>\n",
       "      <th>Mo_Sold</th>\n",
       "      <th>Year_Sold</th>\n",
       "      <th>Sale_Type</th>\n",
       "      <th>Sale_Condition</th>\n",
       "      <th>Sale_Price</th>\n",
       "      <th>Longitude</th>\n",
       "      <th>Latitude</th>\n",
       "    </tr>\n",
       "  </thead>\n",
       "  <tbody>\n",
       "    <tr>\n",
       "      <th>count</th>\n",
       "      <td>2930.000000</td>\n",
       "      <td>2930.000000</td>\n",
       "      <td>2930.000000</td>\n",
       "      <td>2930.000000</td>\n",
       "      <td>2930.000000</td>\n",
       "      <td>2930.000000</td>\n",
       "      <td>2930.000000</td>\n",
       "      <td>2930.000000</td>\n",
       "      <td>2930.000000</td>\n",
       "      <td>2930.000000</td>\n",
       "      <td>...</td>\n",
       "      <td>2930.000000</td>\n",
       "      <td>2930.000000</td>\n",
       "      <td>2930.000000</td>\n",
       "      <td>2930.000000</td>\n",
       "      <td>2930.000000</td>\n",
       "      <td>2930.000000</td>\n",
       "      <td>2930.000000</td>\n",
       "      <td>2930.000000</td>\n",
       "      <td>2930.000000</td>\n",
       "      <td>2930.000000</td>\n",
       "    </tr>\n",
       "    <tr>\n",
       "      <th>mean</th>\n",
       "      <td>6.158703</td>\n",
       "      <td>4.967235</td>\n",
       "      <td>38.349147</td>\n",
       "      <td>889.458362</td>\n",
       "      <td>0.995904</td>\n",
       "      <td>0.985666</td>\n",
       "      <td>2.297270</td>\n",
       "      <td>2.777816</td>\n",
       "      <td>0.001706</td>\n",
       "      <td>3.055290</td>\n",
       "      <td>...</td>\n",
       "      <td>3.494881</td>\n",
       "      <td>2.064846</td>\n",
       "      <td>0.541638</td>\n",
       "      <td>5.216041</td>\n",
       "      <td>1.790444</td>\n",
       "      <td>8.358703</td>\n",
       "      <td>3.779863</td>\n",
       "      <td>442.135836</td>\n",
       "      <td>1390.729352</td>\n",
       "      <td>1376.254949</td>\n",
       "    </tr>\n",
       "    <tr>\n",
       "      <th>std</th>\n",
       "      <td>5.008058</td>\n",
       "      <td>0.865652</td>\n",
       "      <td>26.156382</td>\n",
       "      <td>545.129327</td>\n",
       "      <td>0.063876</td>\n",
       "      <td>0.259604</td>\n",
       "      <td>0.541888</td>\n",
       "      <td>0.703199</td>\n",
       "      <td>0.055406</td>\n",
       "      <td>1.603922</td>\n",
       "      <td>...</td>\n",
       "      <td>1.090075</td>\n",
       "      <td>0.364749</td>\n",
       "      <td>3.349323</td>\n",
       "      <td>2.714492</td>\n",
       "      <td>1.316613</td>\n",
       "      <td>1.877433</td>\n",
       "      <td>1.076299</td>\n",
       "      <td>251.979695</td>\n",
       "      <td>800.950203</td>\n",
       "      <td>794.844741</td>\n",
       "    </tr>\n",
       "    <tr>\n",
       "      <th>min</th>\n",
       "      <td>0.000000</td>\n",
       "      <td>0.000000</td>\n",
       "      <td>0.000000</td>\n",
       "      <td>0.000000</td>\n",
       "      <td>0.000000</td>\n",
       "      <td>0.000000</td>\n",
       "      <td>0.000000</td>\n",
       "      <td>0.000000</td>\n",
       "      <td>0.000000</td>\n",
       "      <td>0.000000</td>\n",
       "      <td>...</td>\n",
       "      <td>0.000000</td>\n",
       "      <td>0.000000</td>\n",
       "      <td>0.000000</td>\n",
       "      <td>0.000000</td>\n",
       "      <td>0.000000</td>\n",
       "      <td>0.000000</td>\n",
       "      <td>0.000000</td>\n",
       "      <td>0.000000</td>\n",
       "      <td>0.000000</td>\n",
       "      <td>0.000000</td>\n",
       "    </tr>\n",
       "    <tr>\n",
       "      <th>25%</th>\n",
       "      <td>2.000000</td>\n",
       "      <td>5.000000</td>\n",
       "      <td>20.000000</td>\n",
       "      <td>418.250000</td>\n",
       "      <td>1.000000</td>\n",
       "      <td>1.000000</td>\n",
       "      <td>2.000000</td>\n",
       "      <td>3.000000</td>\n",
       "      <td>0.000000</td>\n",
       "      <td>2.000000</td>\n",
       "      <td>...</td>\n",
       "      <td>4.000000</td>\n",
       "      <td>2.000000</td>\n",
       "      <td>0.000000</td>\n",
       "      <td>3.000000</td>\n",
       "      <td>1.000000</td>\n",
       "      <td>9.000000</td>\n",
       "      <td>4.000000</td>\n",
       "      <td>243.000000</td>\n",
       "      <td>697.250000</td>\n",
       "      <td>687.250000</td>\n",
       "    </tr>\n",
       "    <tr>\n",
       "      <th>50%</th>\n",
       "      <td>3.000000</td>\n",
       "      <td>5.000000</td>\n",
       "      <td>40.000000</td>\n",
       "      <td>856.500000</td>\n",
       "      <td>1.000000</td>\n",
       "      <td>1.000000</td>\n",
       "      <td>2.000000</td>\n",
       "      <td>3.000000</td>\n",
       "      <td>0.000000</td>\n",
       "      <td>4.000000</td>\n",
       "      <td>...</td>\n",
       "      <td>4.000000</td>\n",
       "      <td>2.000000</td>\n",
       "      <td>0.000000</td>\n",
       "      <td>5.000000</td>\n",
       "      <td>2.000000</td>\n",
       "      <td>9.000000</td>\n",
       "      <td>4.000000</td>\n",
       "      <td>398.000000</td>\n",
       "      <td>1389.500000</td>\n",
       "      <td>1376.500000</td>\n",
       "    </tr>\n",
       "    <tr>\n",
       "      <th>75%</th>\n",
       "      <td>12.000000</td>\n",
       "      <td>5.000000</td>\n",
       "      <td>55.000000</td>\n",
       "      <td>1328.750000</td>\n",
       "      <td>1.000000</td>\n",
       "      <td>1.000000</td>\n",
       "      <td>3.000000</td>\n",
       "      <td>3.000000</td>\n",
       "      <td>0.000000</td>\n",
       "      <td>4.000000</td>\n",
       "      <td>...</td>\n",
       "      <td>4.000000</td>\n",
       "      <td>2.000000</td>\n",
       "      <td>0.000000</td>\n",
       "      <td>7.000000</td>\n",
       "      <td>3.000000</td>\n",
       "      <td>9.000000</td>\n",
       "      <td>4.000000</td>\n",
       "      <td>629.000000</td>\n",
       "      <td>2084.750000</td>\n",
       "      <td>2061.750000</td>\n",
       "    </tr>\n",
       "    <tr>\n",
       "      <th>max</th>\n",
       "      <td>15.000000</td>\n",
       "      <td>6.000000</td>\n",
       "      <td>128.000000</td>\n",
       "      <td>1959.000000</td>\n",
       "      <td>1.000000</td>\n",
       "      <td>2.000000</td>\n",
       "      <td>3.000000</td>\n",
       "      <td>3.000000</td>\n",
       "      <td>2.000000</td>\n",
       "      <td>4.000000</td>\n",
       "      <td>...</td>\n",
       "      <td>4.000000</td>\n",
       "      <td>5.000000</td>\n",
       "      <td>37.000000</td>\n",
       "      <td>11.000000</td>\n",
       "      <td>4.000000</td>\n",
       "      <td>9.000000</td>\n",
       "      <td>5.000000</td>\n",
       "      <td>1031.000000</td>\n",
       "      <td>2768.000000</td>\n",
       "      <td>2746.000000</td>\n",
       "    </tr>\n",
       "  </tbody>\n",
       "</table>\n",
       "<p>8 rows × 81 columns</p>\n",
       "</div>"
      ],
      "text/plain": [
       "       MS_SubClass    MS_Zoning  Lot_Frontage     Lot_Area       Street  \\\n",
       "count  2930.000000  2930.000000   2930.000000  2930.000000  2930.000000   \n",
       "mean      6.158703     4.967235     38.349147   889.458362     0.995904   \n",
       "std       5.008058     0.865652     26.156382   545.129327     0.063876   \n",
       "min       0.000000     0.000000      0.000000     0.000000     0.000000   \n",
       "25%       2.000000     5.000000     20.000000   418.250000     1.000000   \n",
       "50%       3.000000     5.000000     40.000000   856.500000     1.000000   \n",
       "75%      12.000000     5.000000     55.000000  1328.750000     1.000000   \n",
       "max      15.000000     6.000000    128.000000  1959.000000     1.000000   \n",
       "\n",
       "             Alley    Lot_Shape  Land_Contour    Utilities   Lot_Config  ...  \\\n",
       "count  2930.000000  2930.000000   2930.000000  2930.000000  2930.000000  ...   \n",
       "mean      0.985666     2.297270      2.777816     0.001706     3.055290  ...   \n",
       "std       0.259604     0.541888      0.703199     0.055406     1.603922  ...   \n",
       "min       0.000000     0.000000      0.000000     0.000000     0.000000  ...   \n",
       "25%       1.000000     2.000000      3.000000     0.000000     2.000000  ...   \n",
       "50%       1.000000     2.000000      3.000000     0.000000     4.000000  ...   \n",
       "75%       1.000000     3.000000      3.000000     0.000000     4.000000  ...   \n",
       "max       2.000000     3.000000      3.000000     2.000000     4.000000  ...   \n",
       "\n",
       "             Fence  Misc_Feature     Misc_Val      Mo_Sold    Year_Sold  \\\n",
       "count  2930.000000   2930.000000  2930.000000  2930.000000  2930.000000   \n",
       "mean      3.494881      2.064846     0.541638     5.216041     1.790444   \n",
       "std       1.090075      0.364749     3.349323     2.714492     1.316613   \n",
       "min       0.000000      0.000000     0.000000     0.000000     0.000000   \n",
       "25%       4.000000      2.000000     0.000000     3.000000     1.000000   \n",
       "50%       4.000000      2.000000     0.000000     5.000000     2.000000   \n",
       "75%       4.000000      2.000000     0.000000     7.000000     3.000000   \n",
       "max       4.000000      5.000000    37.000000    11.000000     4.000000   \n",
       "\n",
       "         Sale_Type  Sale_Condition   Sale_Price    Longitude     Latitude  \n",
       "count  2930.000000     2930.000000  2930.000000  2930.000000  2930.000000  \n",
       "mean      8.358703        3.779863   442.135836  1390.729352  1376.254949  \n",
       "std       1.877433        1.076299   251.979695   800.950203   794.844741  \n",
       "min       0.000000        0.000000     0.000000     0.000000     0.000000  \n",
       "25%       9.000000        4.000000   243.000000   697.250000   687.250000  \n",
       "50%       9.000000        4.000000   398.000000  1389.500000  1376.500000  \n",
       "75%       9.000000        4.000000   629.000000  2084.750000  2061.750000  \n",
       "max       9.000000        5.000000  1031.000000  2768.000000  2746.000000  \n",
       "\n",
       "[8 rows x 81 columns]"
      ]
     },
     "execution_count": 48,
     "metadata": {},
     "output_type": "execute_result"
    }
   ],
   "source": [
    "df_data.describe()"
   ]
  },
  {
   "cell_type": "code",
   "execution_count": null,
   "id": "7d8a7e54-4080-45dc-bf80-c9247d8bf8ca",
   "metadata": {},
   "outputs": [],
   "source": [
    "new_data = df_data"
   ]
  },
  {
   "cell_type": "code",
   "execution_count": 50,
   "id": "6c7f3482",
   "metadata": {},
   "outputs": [
    {
     "data": {
      "text/html": [
       "<div>\n",
       "<style scoped>\n",
       "    .dataframe tbody tr th:only-of-type {\n",
       "        vertical-align: middle;\n",
       "    }\n",
       "\n",
       "    .dataframe tbody tr th {\n",
       "        vertical-align: top;\n",
       "    }\n",
       "\n",
       "    .dataframe thead th {\n",
       "        text-align: right;\n",
       "    }\n",
       "</style>\n",
       "<table border=\"1\" class=\"dataframe\">\n",
       "  <thead>\n",
       "    <tr style=\"text-align: right;\">\n",
       "      <th></th>\n",
       "      <th>MS_SubClass</th>\n",
       "      <th>MS_Zoning</th>\n",
       "      <th>Lot_Frontage</th>\n",
       "      <th>Lot_Area</th>\n",
       "      <th>Street</th>\n",
       "      <th>Alley</th>\n",
       "      <th>Lot_Shape</th>\n",
       "      <th>Land_Contour</th>\n",
       "      <th>Utilities</th>\n",
       "      <th>Lot_Config</th>\n",
       "      <th>...</th>\n",
       "      <th>Fence</th>\n",
       "      <th>Misc_Feature</th>\n",
       "      <th>Misc_Val</th>\n",
       "      <th>Mo_Sold</th>\n",
       "      <th>Year_Sold</th>\n",
       "      <th>Sale_Type</th>\n",
       "      <th>Sale_Condition</th>\n",
       "      <th>Sale_Price</th>\n",
       "      <th>Longitude</th>\n",
       "      <th>Latitude</th>\n",
       "    </tr>\n",
       "  </thead>\n",
       "  <tbody>\n",
       "    <tr>\n",
       "      <th>0</th>\n",
       "      <td>2</td>\n",
       "      <td>5</td>\n",
       "      <td>115</td>\n",
       "      <td>1927</td>\n",
       "      <td>1</td>\n",
       "      <td>1</td>\n",
       "      <td>3</td>\n",
       "      <td>3</td>\n",
       "      <td>0</td>\n",
       "      <td>0</td>\n",
       "      <td>...</td>\n",
       "      <td>4</td>\n",
       "      <td>2</td>\n",
       "      <td>0</td>\n",
       "      <td>4</td>\n",
       "      <td>4</td>\n",
       "      <td>9</td>\n",
       "      <td>4</td>\n",
       "      <td>634</td>\n",
       "      <td>2167</td>\n",
       "      <td>2277</td>\n",
       "    </tr>\n",
       "    <tr>\n",
       "      <th>1</th>\n",
       "      <td>2</td>\n",
       "      <td>4</td>\n",
       "      <td>57</td>\n",
       "      <td>1338</td>\n",
       "      <td>1</td>\n",
       "      <td>1</td>\n",
       "      <td>2</td>\n",
       "      <td>3</td>\n",
       "      <td>0</td>\n",
       "      <td>4</td>\n",
       "      <td>...</td>\n",
       "      <td>2</td>\n",
       "      <td>2</td>\n",
       "      <td>0</td>\n",
       "      <td>5</td>\n",
       "      <td>4</td>\n",
       "      <td>9</td>\n",
       "      <td>4</td>\n",
       "      <td>138</td>\n",
       "      <td>2166</td>\n",
       "      <td>2230</td>\n",
       "    </tr>\n",
       "    <tr>\n",
       "      <th>2</th>\n",
       "      <td>2</td>\n",
       "      <td>5</td>\n",
       "      <td>58</td>\n",
       "      <td>1680</td>\n",
       "      <td>1</td>\n",
       "      <td>1</td>\n",
       "      <td>3</td>\n",
       "      <td>3</td>\n",
       "      <td>0</td>\n",
       "      <td>0</td>\n",
       "      <td>...</td>\n",
       "      <td>4</td>\n",
       "      <td>1</td>\n",
       "      <td>35</td>\n",
       "      <td>5</td>\n",
       "      <td>4</td>\n",
       "      <td>9</td>\n",
       "      <td>4</td>\n",
       "      <td>450</td>\n",
       "      <td>2179</td>\n",
       "      <td>2217</td>\n",
       "    </tr>\n",
       "    <tr>\n",
       "      <th>3</th>\n",
       "      <td>2</td>\n",
       "      <td>5</td>\n",
       "      <td>70</td>\n",
       "      <td>1255</td>\n",
       "      <td>1</td>\n",
       "      <td>1</td>\n",
       "      <td>2</td>\n",
       "      <td>3</td>\n",
       "      <td>0</td>\n",
       "      <td>0</td>\n",
       "      <td>...</td>\n",
       "      <td>4</td>\n",
       "      <td>2</td>\n",
       "      <td>0</td>\n",
       "      <td>3</td>\n",
       "      <td>4</td>\n",
       "      <td>9</td>\n",
       "      <td>4</td>\n",
       "      <td>723</td>\n",
       "      <td>2258</td>\n",
       "      <td>2117</td>\n",
       "    </tr>\n",
       "    <tr>\n",
       "      <th>4</th>\n",
       "      <td>13</td>\n",
       "      <td>5</td>\n",
       "      <td>51</td>\n",
       "      <td>1644</td>\n",
       "      <td>1</td>\n",
       "      <td>1</td>\n",
       "      <td>3</td>\n",
       "      <td>3</td>\n",
       "      <td>0</td>\n",
       "      <td>4</td>\n",
       "      <td>...</td>\n",
       "      <td>2</td>\n",
       "      <td>2</td>\n",
       "      <td>0</td>\n",
       "      <td>2</td>\n",
       "      <td>4</td>\n",
       "      <td>9</td>\n",
       "      <td>4</td>\n",
       "      <td>537</td>\n",
       "      <td>1512</td>\n",
       "      <td>2593</td>\n",
       "    </tr>\n",
       "    <tr>\n",
       "      <th>...</th>\n",
       "      <td>...</td>\n",
       "      <td>...</td>\n",
       "      <td>...</td>\n",
       "      <td>...</td>\n",
       "      <td>...</td>\n",
       "      <td>...</td>\n",
       "      <td>...</td>\n",
       "      <td>...</td>\n",
       "      <td>...</td>\n",
       "      <td>...</td>\n",
       "      <td>...</td>\n",
       "      <td>...</td>\n",
       "      <td>...</td>\n",
       "      <td>...</td>\n",
       "      <td>...</td>\n",
       "      <td>...</td>\n",
       "      <td>...</td>\n",
       "      <td>...</td>\n",
       "      <td>...</td>\n",
       "      <td>...</td>\n",
       "      <td>...</td>\n",
       "    </tr>\n",
       "    <tr>\n",
       "      <th>2925</th>\n",
       "      <td>10</td>\n",
       "      <td>5</td>\n",
       "      <td>14</td>\n",
       "      <td>514</td>\n",
       "      <td>1</td>\n",
       "      <td>1</td>\n",
       "      <td>3</td>\n",
       "      <td>3</td>\n",
       "      <td>0</td>\n",
       "      <td>1</td>\n",
       "      <td>...</td>\n",
       "      <td>0</td>\n",
       "      <td>2</td>\n",
       "      <td>0</td>\n",
       "      <td>2</td>\n",
       "      <td>0</td>\n",
       "      <td>9</td>\n",
       "      <td>4</td>\n",
       "      <td>306</td>\n",
       "      <td>2653</td>\n",
       "      <td>26</td>\n",
       "    </tr>\n",
       "    <tr>\n",
       "      <th>2926</th>\n",
       "      <td>2</td>\n",
       "      <td>5</td>\n",
       "      <td>0</td>\n",
       "      <td>729</td>\n",
       "      <td>1</td>\n",
       "      <td>1</td>\n",
       "      <td>3</td>\n",
       "      <td>2</td>\n",
       "      <td>0</td>\n",
       "      <td>4</td>\n",
       "      <td>...</td>\n",
       "      <td>2</td>\n",
       "      <td>2</td>\n",
       "      <td>0</td>\n",
       "      <td>5</td>\n",
       "      <td>0</td>\n",
       "      <td>9</td>\n",
       "      <td>4</td>\n",
       "      <td>250</td>\n",
       "      <td>2724</td>\n",
       "      <td>19</td>\n",
       "    </tr>\n",
       "    <tr>\n",
       "      <th>2927</th>\n",
       "      <td>9</td>\n",
       "      <td>5</td>\n",
       "      <td>39</td>\n",
       "      <td>1099</td>\n",
       "      <td>1</td>\n",
       "      <td>1</td>\n",
       "      <td>2</td>\n",
       "      <td>3</td>\n",
       "      <td>0</td>\n",
       "      <td>4</td>\n",
       "      <td>...</td>\n",
       "      <td>2</td>\n",
       "      <td>4</td>\n",
       "      <td>17</td>\n",
       "      <td>6</td>\n",
       "      <td>0</td>\n",
       "      <td>9</td>\n",
       "      <td>4</td>\n",
       "      <td>256</td>\n",
       "      <td>2593</td>\n",
       "      <td>3</td>\n",
       "    </tr>\n",
       "    <tr>\n",
       "      <th>2928</th>\n",
       "      <td>2</td>\n",
       "      <td>5</td>\n",
       "      <td>54</td>\n",
       "      <td>997</td>\n",
       "      <td>1</td>\n",
       "      <td>1</td>\n",
       "      <td>2</td>\n",
       "      <td>3</td>\n",
       "      <td>0</td>\n",
       "      <td>4</td>\n",
       "      <td>...</td>\n",
       "      <td>4</td>\n",
       "      <td>2</td>\n",
       "      <td>0</td>\n",
       "      <td>3</td>\n",
       "      <td>0</td>\n",
       "      <td>9</td>\n",
       "      <td>4</td>\n",
       "      <td>443</td>\n",
       "      <td>2756</td>\n",
       "      <td>40</td>\n",
       "    </tr>\n",
       "    <tr>\n",
       "      <th>2929</th>\n",
       "      <td>13</td>\n",
       "      <td>5</td>\n",
       "      <td>51</td>\n",
       "      <td>908</td>\n",
       "      <td>1</td>\n",
       "      <td>1</td>\n",
       "      <td>2</td>\n",
       "      <td>3</td>\n",
       "      <td>0</td>\n",
       "      <td>4</td>\n",
       "      <td>...</td>\n",
       "      <td>4</td>\n",
       "      <td>2</td>\n",
       "      <td>0</td>\n",
       "      <td>10</td>\n",
       "      <td>0</td>\n",
       "      <td>9</td>\n",
       "      <td>4</td>\n",
       "      <td>531</td>\n",
       "      <td>2760</td>\n",
       "      <td>28</td>\n",
       "    </tr>\n",
       "  </tbody>\n",
       "</table>\n",
       "<p>2930 rows × 81 columns</p>\n",
       "</div>"
      ],
      "text/plain": [
       "      MS_SubClass  MS_Zoning  Lot_Frontage  Lot_Area  Street  Alley  \\\n",
       "0               2          5           115      1927       1      1   \n",
       "1               2          4            57      1338       1      1   \n",
       "2               2          5            58      1680       1      1   \n",
       "3               2          5            70      1255       1      1   \n",
       "4              13          5            51      1644       1      1   \n",
       "...           ...        ...           ...       ...     ...    ...   \n",
       "2925           10          5            14       514       1      1   \n",
       "2926            2          5             0       729       1      1   \n",
       "2927            9          5            39      1099       1      1   \n",
       "2928            2          5            54       997       1      1   \n",
       "2929           13          5            51       908       1      1   \n",
       "\n",
       "      Lot_Shape  Land_Contour  Utilities  Lot_Config  ...  Fence  \\\n",
       "0             3             3          0           0  ...      4   \n",
       "1             2             3          0           4  ...      2   \n",
       "2             3             3          0           0  ...      4   \n",
       "3             2             3          0           0  ...      4   \n",
       "4             3             3          0           4  ...      2   \n",
       "...         ...           ...        ...         ...  ...    ...   \n",
       "2925          3             3          0           1  ...      0   \n",
       "2926          3             2          0           4  ...      2   \n",
       "2927          2             3          0           4  ...      2   \n",
       "2928          2             3          0           4  ...      4   \n",
       "2929          2             3          0           4  ...      4   \n",
       "\n",
       "      Misc_Feature  Misc_Val  Mo_Sold  Year_Sold  Sale_Type  Sale_Condition  \\\n",
       "0                2         0        4          4          9               4   \n",
       "1                2         0        5          4          9               4   \n",
       "2                1        35        5          4          9               4   \n",
       "3                2         0        3          4          9               4   \n",
       "4                2         0        2          4          9               4   \n",
       "...            ...       ...      ...        ...        ...             ...   \n",
       "2925             2         0        2          0          9               4   \n",
       "2926             2         0        5          0          9               4   \n",
       "2927             4        17        6          0          9               4   \n",
       "2928             2         0        3          0          9               4   \n",
       "2929             2         0       10          0          9               4   \n",
       "\n",
       "      Sale_Price  Longitude  Latitude  \n",
       "0            634       2167      2277  \n",
       "1            138       2166      2230  \n",
       "2            450       2179      2217  \n",
       "3            723       2258      2117  \n",
       "4            537       1512      2593  \n",
       "...          ...        ...       ...  \n",
       "2925         306       2653        26  \n",
       "2926         250       2724        19  \n",
       "2927         256       2593         3  \n",
       "2928         443       2756        40  \n",
       "2929         531       2760        28  \n",
       "\n",
       "[2930 rows x 81 columns]"
      ]
     },
     "execution_count": 50,
     "metadata": {},
     "output_type": "execute_result"
    }
   ],
   "source": [
    "new_data"
   ]
  },
  {
   "cell_type": "code",
   "execution_count": 87,
   "id": "0d7fd52a",
   "metadata": {},
   "outputs": [],
   "source": [
    "#del(price)\n",
    "#del(prices)\n",
    "#del(weka)\n",
    "#del(dfPearson)"
   ]
  },
  {
   "cell_type": "code",
   "execution_count": 11,
   "id": "52809a63",
   "metadata": {},
   "outputs": [],
   "source": [
    "#dfPearson = pd.get_dummies(new_data)"
   ]
  },
  {
   "cell_type": "code",
   "execution_count": 70,
   "id": "66fe7c47",
   "metadata": {},
   "outputs": [],
   "source": [
    "dfPearson = new_data"
   ]
  },
  {
   "cell_type": "code",
   "execution_count": 71,
   "id": "ba05da32",
   "metadata": {},
   "outputs": [],
   "source": [
    "\n",
    "#dfPearson = pd.get_dummies(df_data)\n",
    "\n",
    "prices = dfPearson.corr() \n",
    "prices.head()\n",
    "price = prices[\"Sale_Price\"]\n",
    "price = pd.DataFrame(price).T\n",
    "\n",
    "#size = len(price.columns)\n",
    "#price\n",
    "#df_data.head()\n",
    "#del(price)\n",
    "#print(len(price.columns))\n",
    "#print(price.columns[3].index)\n",
    "#print(price[price.columns[3]])"
   ]
  },
  {
   "cell_type": "code",
   "execution_count": 72,
   "id": "084ca5f8",
   "metadata": {},
   "outputs": [
    {
     "data": {
      "text/plain": [
       "MS_SubClass      -0.039795\n",
       "MS_Zoning        -0.024299\n",
       "Lot_Frontage     -0.010515\n",
       "Lot_Area         -0.024705\n",
       "Street           -0.018328\n",
       "                    ...   \n",
       "Sale_Type         0.027382\n",
       "Sale_Condition   -0.016423\n",
       "Sale_Price       -0.025741\n",
       "Longitude         0.005622\n",
       "Latitude         -0.009703\n",
       "Name: Year_Sold, Length: 81, dtype: float64"
      ]
     },
     "execution_count": 72,
     "metadata": {},
     "output_type": "execute_result"
    }
   ],
   "source": [
    "prices[\"Year_Sold\"]"
   ]
  },
  {
   "cell_type": "code",
   "execution_count": 73,
   "id": "a20027b1-2816-4a77-862e-0236e1110f6f",
   "metadata": {
    "scrolled": false
   },
   "outputs": [],
   "source": [
    "\n",
    "\n",
    "\n",
    "#newprice = price\n",
    "#newprice\n",
    "#print(price.keys)\n",
    "#price.drop(price[0,2])\n",
    "price.columns\n",
    "\n",
    "\n",
    "i=0\n",
    "cont=0\n",
    "while i < (len(price.columns)):\n",
    "    #print(\"{\"+str(price.values[0,i])+\"}\")\n",
    "    #print(price.columns[i])\n",
    "    #print(i)\n",
    "    #print(price.values[0,i] < (0.000000))\n",
    "    price.values[0,i]\n",
    "    cont += 1\n",
    "    if cont > 1000:\n",
    "        print(cont)\n",
    "        break\n",
    "    elif price.values[0,i] < (0.150):\n",
    "        price.drop(price.columns[i],inplace=True,axis=1)\n",
    "        new_data.drop(new_data.columns[i],inplace=True,axis=1)\n",
    "        #old_data.drop(old_data.columns[i],inplace=True,axis=1)\n",
    "        #i += 1\n",
    "    elif i+1 > len(price.columns):\n",
    "        i += 0\n",
    "    else :\n",
    "        i += 1\n",
    "        \n"
   ]
  },
  {
   "cell_type": "code",
   "execution_count": null,
   "id": "073ea763",
   "metadata": {},
   "outputs": [],
   "source": [
    "len(price.columns)\n",
    "#print(newprice)\n",
    "#price\n",
    "new_data"
   ]
  },
  {
   "cell_type": "code",
   "execution_count": 16,
   "id": "e1788de6",
   "metadata": {
    "scrolled": true
   },
   "outputs": [
    {
     "ename": "NameError",
     "evalue": "name 'old_data' is not defined",
     "output_type": "error",
     "traceback": [
      "\u001b[1;31m---------------------------------------------------------------------------\u001b[0m",
      "\u001b[1;31mNameError\u001b[0m                                 Traceback (most recent call last)",
      "\u001b[1;32m~\\AppData\\Local\\Temp\\ipykernel_6684\\3590274167.py\u001b[0m in \u001b[0;36m<module>\u001b[1;34m\u001b[0m\n\u001b[1;32m----> 1\u001b[1;33m \u001b[0mold_data\u001b[0m\u001b[1;33m\u001b[0m\u001b[1;33m\u001b[0m\u001b[0m\n\u001b[0m",
      "\u001b[1;31mNameError\u001b[0m: name 'old_data' is not defined"
     ]
    }
   ],
   "source": [
    "old_data"
   ]
  },
  {
   "cell_type": "code",
   "execution_count": 74,
   "id": "9a49b794",
   "metadata": {},
   "outputs": [
    {
     "data": {
      "image/png": "[encoded data removed]",
      "text/plain": [
       "<Figure size 4000x200 with 2 Axes>"
      ]
     },
     "metadata": {},
     "output_type": "display_data"
    }
   ],
   "source": [
    "plt.figure(figsize=(40,2))\n",
    "#dfDummies = pd.get_dummies(price)\n",
    "#prices = dfDummies.corr(method='pearson') \n",
    "#prices = dfDummies.pivot('Year_Sold',target,'Sale_Price')\n",
    "#ax = sns.heatmap(price,cmap='YlGnBu')\n",
    "sns.heatmap(price,linewidths=.1,cmap=\"YlGnBu\", annot=True)\n",
    "plt.yticks(rotation=0);"
   ]
  },
  {
   "cell_type": "code",
   "execution_count": 77,
   "id": "5f18413c",
   "metadata": {},
   "outputs": [
    {
     "name": "stdout",
     "output_type": "stream",
     "text": [
      "dataset shape (2930, 38)\n",
      "X shape (2930, 38)\n",
      "y shape (2930,)\n"
     ]
    }
   ],
   "source": [
    "# data preparation\n",
    "# convert to float to have precise and homogenoues computation\n",
    "dataset = new_data.astype(float)\n",
    "print(\"dataset shape\", dataset.shape)\n",
    "\n",
    "#remove categories with low corr from the main dataframe\n",
    "\n",
    "\n",
    "\n",
    "# get features by removing id and class\n",
    "# remove id\n",
    "X = dataset.iloc[:,0:]\n",
    "print(\"X shape\", X.shape)\n",
    "\n",
    "# get class label\n",
    "y = dataset.iloc[:,0]\n",
    "#y = dataset.loc[:,0]\n",
    "print(\"y shape\", y.shape)"
   ]
  },
  {
   "cell_type": "code",
   "execution_count": 82,
   "id": "540e31d6",
   "metadata": {},
   "outputs": [
    {
     "name": "stdout",
     "output_type": "stream",
     "text": [
      "   MS_SubClass  Lot_Frontage  Lot_Area  Lot_Shape  Neighborhood  House_Style  \\\n",
      "0          2.0         115.0    1927.0        3.0          15.0          0.0   \n",
      "1          2.0          57.0    1338.0        2.0          15.0          0.0   \n",
      "2          2.0          58.0    1680.0        3.0          15.0          0.0   \n",
      "3          2.0          70.0    1255.0        2.0          15.0          0.0   \n",
      "4         13.0          51.0    1644.0        3.0           8.0          5.0   \n",
      "\n",
      "   Overall_Qual  Year_Built  Year_Remod_Add  Roof_Style  ...  Garage_Area  \\\n",
      "0           0.0        67.0            10.0         3.0  ...        266.0   \n",
      "1           1.0        68.0            11.0         1.0  ...        428.0   \n",
      "2           0.0        65.0             8.0         3.0  ...         85.0   \n",
      "3           5.0        75.0            18.0         3.0  ...        260.0   \n",
      "4           1.0       104.0            48.0         1.0  ...        224.0   \n",
      "\n",
      "   Garage_Qual  Garage_Cond  Paved_Drive  Wood_Deck_SF  Open_Porch_SF  Fence  \\\n",
      "0          5.0          5.0          1.0         167.0           53.0    4.0   \n",
      "1          5.0          5.0          2.0          99.0            0.0    2.0   \n",
      "2          5.0          5.0          2.0         308.0           27.0    4.0   \n",
      "3          5.0          5.0          2.0           0.0            0.0    4.0   \n",
      "4          5.0          5.0          2.0         169.0           25.0    2.0   \n",
      "\n",
      "   Sale_Condition  Sale_Price  Latitude  \n",
      "0             4.0       634.0    2277.0  \n",
      "1             4.0       138.0    2230.0  \n",
      "2             4.0       450.0    2217.0  \n",
      "3             4.0       723.0    2117.0  \n",
      "4             4.0       537.0    2593.0  \n",
      "\n",
      "[5 rows x 38 columns]\n",
      "0     2.0\n",
      "1     2.0\n",
      "2     2.0\n",
      "3     2.0\n",
      "4    13.0\n",
      "Name: MS_SubClass, dtype: float64\n"
     ]
    }
   ],
   "source": [
    "dataset\n",
    "print(X.head())\n",
    "print(y.head())"
   ]
  },
  {
   "cell_type": "code",
   "execution_count": 83,
   "id": "19cf033e",
   "metadata": {},
   "outputs": [
    {
     "name": "stdout",
     "output_type": "stream",
     "text": [
      "(2344, 38) (586, 38)\n"
     ]
    }
   ],
   "source": [
    "from sklearn.model_selection import train_test_split\n",
    "\n",
    "X_train, X_test, y_train, y_test = train_test_split(\n",
    "    X, y, test_size=0.20, random_state=42)\n",
    "\n",
    "print (X_train.shape, X_test.shape)"
   ]
  },
  {
   "cell_type": "code",
   "execution_count": 79,
   "id": "cffbc36c",
   "metadata": {
    "scrolled": true
   },
   "outputs": [
    {
     "name": "stderr",
     "output_type": "stream",
     "text": [
      "E:\\Program Files\\Anaconda\\lib\\site-packages\\sklearn\\neighbors\\_classification.py:228: FutureWarning: Unlike other reduction functions (e.g. `skew`, `kurtosis`), the default behavior of `mode` typically preserves the axis it acts along. In SciPy 1.11.0, this behavior will change: the default value of `keepdims` will become False, the `axis` over which the statistic is taken will be eliminated, and the value None will no longer be accepted. Set `keepdims` to True or False to avoid this warning.\n",
      "  mode, _ = stats.mode(_y[neigh_ind, k], axis=1)\n",
      "E:\\Program Files\\Anaconda\\lib\\site-packages\\sklearn\\neighbors\\_classification.py:228: FutureWarning: Unlike other reduction functions (e.g. `skew`, `kurtosis`), the default behavior of `mode` typically preserves the axis it acts along. In SciPy 1.11.0, this behavior will change: the default value of `keepdims` will become False, the `axis` over which the statistic is taken will be eliminated, and the value None will no longer be accepted. Set `keepdims` to True or False to avoid this warning.\n",
      "  mode, _ = stats.mode(_y[neigh_ind, k], axis=1)\n",
      "E:\\Program Files\\Anaconda\\lib\\site-packages\\sklearn\\neighbors\\_classification.py:228: FutureWarning: Unlike other reduction functions (e.g. `skew`, `kurtosis`), the default behavior of `mode` typically preserves the axis it acts along. In SciPy 1.11.0, this behavior will change: the default value of `keepdims` will become False, the `axis` over which the statistic is taken will be eliminated, and the value None will no longer be accepted. Set `keepdims` to True or False to avoid this warning.\n",
      "  mode, _ = stats.mode(_y[neigh_ind, k], axis=1)\n"
     ]
    },
    {
     "name": "stdout",
     "output_type": "stream",
     "text": [
      "Accuracy 0.75939\n",
      "Accuracy 0.76621\n",
      "Accuracy 0.77133\n",
      "Accuracy 0.77474\n"
     ]
    },
    {
     "name": "stderr",
     "output_type": "stream",
     "text": [
      "E:\\Program Files\\Anaconda\\lib\\site-packages\\sklearn\\neighbors\\_classification.py:228: FutureWarning: Unlike other reduction functions (e.g. `skew`, `kurtosis`), the default behavior of `mode` typically preserves the axis it acts along. In SciPy 1.11.0, this behavior will change: the default value of `keepdims` will become False, the `axis` over which the statistic is taken will be eliminated, and the value None will no longer be accepted. Set `keepdims` to True or False to avoid this warning.\n",
      "  mode, _ = stats.mode(_y[neigh_ind, k], axis=1)\n",
      "E:\\Program Files\\Anaconda\\lib\\site-packages\\sklearn\\neighbors\\_classification.py:228: FutureWarning: Unlike other reduction functions (e.g. `skew`, `kurtosis`), the default behavior of `mode` typically preserves the axis it acts along. In SciPy 1.11.0, this behavior will change: the default value of `keepdims` will become False, the `axis` over which the statistic is taken will be eliminated, and the value None will no longer be accepted. Set `keepdims` to True or False to avoid this warning.\n",
      "  mode, _ = stats.mode(_y[neigh_ind, k], axis=1)\n"
     ]
    },
    {
     "name": "stdout",
     "output_type": "stream",
     "text": [
      "Accuracy 0.78157\n",
      "Accuracy 0.76109\n"
     ]
    },
    {
     "name": "stderr",
     "output_type": "stream",
     "text": [
      "E:\\Program Files\\Anaconda\\lib\\site-packages\\sklearn\\neighbors\\_classification.py:228: FutureWarning: Unlike other reduction functions (e.g. `skew`, `kurtosis`), the default behavior of `mode` typically preserves the axis it acts along. In SciPy 1.11.0, this behavior will change: the default value of `keepdims` will become False, the `axis` over which the statistic is taken will be eliminated, and the value None will no longer be accepted. Set `keepdims` to True or False to avoid this warning.\n",
      "  mode, _ = stats.mode(_y[neigh_ind, k], axis=1)\n",
      "E:\\Program Files\\Anaconda\\lib\\site-packages\\sklearn\\neighbors\\_classification.py:228: FutureWarning: Unlike other reduction functions (e.g. `skew`, `kurtosis`), the default behavior of `mode` typically preserves the axis it acts along. In SciPy 1.11.0, this behavior will change: the default value of `keepdims` will become False, the `axis` over which the statistic is taken will be eliminated, and the value None will no longer be accepted. Set `keepdims` to True or False to avoid this warning.\n",
      "  mode, _ = stats.mode(_y[neigh_ind, k], axis=1)\n"
     ]
    },
    {
     "name": "stdout",
     "output_type": "stream",
     "text": [
      "Accuracy 0.76621\n",
      "Accuracy 0.76451\n"
     ]
    },
    {
     "name": "stderr",
     "output_type": "stream",
     "text": [
      "E:\\Program Files\\Anaconda\\lib\\site-packages\\sklearn\\neighbors\\_classification.py:228: FutureWarning: Unlike other reduction functions (e.g. `skew`, `kurtosis`), the default behavior of `mode` typically preserves the axis it acts along. In SciPy 1.11.0, this behavior will change: the default value of `keepdims` will become False, the `axis` over which the statistic is taken will be eliminated, and the value None will no longer be accepted. Set `keepdims` to True or False to avoid this warning.\n",
      "  mode, _ = stats.mode(_y[neigh_ind, k], axis=1)\n",
      "E:\\Program Files\\Anaconda\\lib\\site-packages\\sklearn\\neighbors\\_classification.py:228: FutureWarning: Unlike other reduction functions (e.g. `skew`, `kurtosis`), the default behavior of `mode` typically preserves the axis it acts along. In SciPy 1.11.0, this behavior will change: the default value of `keepdims` will become False, the `axis` over which the statistic is taken will be eliminated, and the value None will no longer be accepted. Set `keepdims` to True or False to avoid this warning.\n",
      "  mode, _ = stats.mode(_y[neigh_ind, k], axis=1)\n"
     ]
    },
    {
     "name": "stdout",
     "output_type": "stream",
     "text": [
      "Accuracy 0.76621\n",
      "Accuracy 0.77133\n"
     ]
    },
    {
     "name": "stderr",
     "output_type": "stream",
     "text": [
      "E:\\Program Files\\Anaconda\\lib\\site-packages\\sklearn\\neighbors\\_classification.py:228: FutureWarning: Unlike other reduction functions (e.g. `skew`, `kurtosis`), the default behavior of `mode` typically preserves the axis it acts along. In SciPy 1.11.0, this behavior will change: the default value of `keepdims` will become False, the `axis` over which the statistic is taken will be eliminated, and the value None will no longer be accepted. Set `keepdims` to True or False to avoid this warning.\n",
      "  mode, _ = stats.mode(_y[neigh_ind, k], axis=1)\n",
      "E:\\Program Files\\Anaconda\\lib\\site-packages\\sklearn\\neighbors\\_classification.py:228: FutureWarning: Unlike other reduction functions (e.g. `skew`, `kurtosis`), the default behavior of `mode` typically preserves the axis it acts along. In SciPy 1.11.0, this behavior will change: the default value of `keepdims` will become False, the `axis` over which the statistic is taken will be eliminated, and the value None will no longer be accepted. Set `keepdims` to True or False to avoid this warning.\n",
      "  mode, _ = stats.mode(_y[neigh_ind, k], axis=1)\n"
     ]
    },
    {
     "name": "stdout",
     "output_type": "stream",
     "text": [
      "Accuracy 0.77304\n",
      "Accuracy 0.77133\n"
     ]
    },
    {
     "name": "stderr",
     "output_type": "stream",
     "text": [
      "E:\\Program Files\\Anaconda\\lib\\site-packages\\sklearn\\neighbors\\_classification.py:228: FutureWarning: Unlike other reduction functions (e.g. `skew`, `kurtosis`), the default behavior of `mode` typically preserves the axis it acts along. In SciPy 1.11.0, this behavior will change: the default value of `keepdims` will become False, the `axis` over which the statistic is taken will be eliminated, and the value None will no longer be accepted. Set `keepdims` to True or False to avoid this warning.\n",
      "  mode, _ = stats.mode(_y[neigh_ind, k], axis=1)\n",
      "E:\\Program Files\\Anaconda\\lib\\site-packages\\sklearn\\neighbors\\_classification.py:228: FutureWarning: Unlike other reduction functions (e.g. `skew`, `kurtosis`), the default behavior of `mode` typically preserves the axis it acts along. In SciPy 1.11.0, this behavior will change: the default value of `keepdims` will become False, the `axis` over which the statistic is taken will be eliminated, and the value None will no longer be accepted. Set `keepdims` to True or False to avoid this warning.\n",
      "  mode, _ = stats.mode(_y[neigh_ind, k], axis=1)\n"
     ]
    },
    {
     "name": "stdout",
     "output_type": "stream",
     "text": [
      "Accuracy 0.76621\n",
      "Accuracy 0.76792\n"
     ]
    },
    {
     "name": "stderr",
     "output_type": "stream",
     "text": [
      "E:\\Program Files\\Anaconda\\lib\\site-packages\\sklearn\\neighbors\\_classification.py:228: FutureWarning: Unlike other reduction functions (e.g. `skew`, `kurtosis`), the default behavior of `mode` typically preserves the axis it acts along. In SciPy 1.11.0, this behavior will change: the default value of `keepdims` will become False, the `axis` over which the statistic is taken will be eliminated, and the value None will no longer be accepted. Set `keepdims` to True or False to avoid this warning.\n",
      "  mode, _ = stats.mode(_y[neigh_ind, k], axis=1)\n",
      "E:\\Program Files\\Anaconda\\lib\\site-packages\\sklearn\\neighbors\\_classification.py:228: FutureWarning: Unlike other reduction functions (e.g. `skew`, `kurtosis`), the default behavior of `mode` typically preserves the axis it acts along. In SciPy 1.11.0, this behavior will change: the default value of `keepdims` will become False, the `axis` over which the statistic is taken will be eliminated, and the value None will no longer be accepted. Set `keepdims` to True or False to avoid this warning.\n",
      "  mode, _ = stats.mode(_y[neigh_ind, k], axis=1)\n"
     ]
    },
    {
     "name": "stdout",
     "output_type": "stream",
     "text": [
      "Accuracy 0.76280\n",
      "Accuracy 0.76280\n"
     ]
    },
    {
     "name": "stderr",
     "output_type": "stream",
     "text": [
      "E:\\Program Files\\Anaconda\\lib\\site-packages\\sklearn\\neighbors\\_classification.py:228: FutureWarning: Unlike other reduction functions (e.g. `skew`, `kurtosis`), the default behavior of `mode` typically preserves the axis it acts along. In SciPy 1.11.0, this behavior will change: the default value of `keepdims` will become False, the `axis` over which the statistic is taken will be eliminated, and the value None will no longer be accepted. Set `keepdims` to True or False to avoid this warning.\n",
      "  mode, _ = stats.mode(_y[neigh_ind, k], axis=1)\n",
      "E:\\Program Files\\Anaconda\\lib\\site-packages\\sklearn\\neighbors\\_classification.py:228: FutureWarning: Unlike other reduction functions (e.g. `skew`, `kurtosis`), the default behavior of `mode` typically preserves the axis it acts along. In SciPy 1.11.0, this behavior will change: the default value of `keepdims` will become False, the `axis` over which the statistic is taken will be eliminated, and the value None will no longer be accepted. Set `keepdims` to True or False to avoid this warning.\n",
      "  mode, _ = stats.mode(_y[neigh_ind, k], axis=1)\n"
     ]
    },
    {
     "name": "stdout",
     "output_type": "stream",
     "text": [
      "Accuracy 0.76621\n",
      "Accuracy 0.77133\n"
     ]
    },
    {
     "name": "stderr",
     "output_type": "stream",
     "text": [
      "E:\\Program Files\\Anaconda\\lib\\site-packages\\sklearn\\neighbors\\_classification.py:228: FutureWarning: Unlike other reduction functions (e.g. `skew`, `kurtosis`), the default behavior of `mode` typically preserves the axis it acts along. In SciPy 1.11.0, this behavior will change: the default value of `keepdims` will become False, the `axis` over which the statistic is taken will be eliminated, and the value None will no longer be accepted. Set `keepdims` to True or False to avoid this warning.\n",
      "  mode, _ = stats.mode(_y[neigh_ind, k], axis=1)\n",
      "E:\\Program Files\\Anaconda\\lib\\site-packages\\sklearn\\neighbors\\_classification.py:228: FutureWarning: Unlike other reduction functions (e.g. `skew`, `kurtosis`), the default behavior of `mode` typically preserves the axis it acts along. In SciPy 1.11.0, this behavior will change: the default value of `keepdims` will become False, the `axis` over which the statistic is taken will be eliminated, and the value None will no longer be accepted. Set `keepdims` to True or False to avoid this warning.\n",
      "  mode, _ = stats.mode(_y[neigh_ind, k], axis=1)\n"
     ]
    },
    {
     "name": "stdout",
     "output_type": "stream",
     "text": [
      "Accuracy 0.77133\n",
      "Min Accuracy: 0.75939 | Max Accuracy 0.78157 | Avg Accuracy 0.76775\n"
     ]
    }
   ],
   "source": [
    "\n",
    "from sklearn.neighbors import KNeighborsClassifier\n",
    "from sklearn.metrics import accuracy_score\n",
    "\n",
    "# Create the classifier\n",
    "for i in range(1,20):\n",
    "    kNN = KNeighborsClassifier(n_neighbors=i)\n",
    "    \n",
    "    # Train the classifier\n",
    "    kNN.fit(X_train,y_train)\n",
    "\n",
    "    # Generate predictions\n",
    "    y_pred = kNN.predict(X_test)\n",
    "\n",
    "    # compute Accuracy\n",
    "    acc = accuracy_score(y_true=y_test, y_pred=y_pred)\n",
    "    if i <= 1:\n",
    "        accmin = acc\n",
    "        accmax = acc\n",
    "        accavg = acc\n",
    "        \n",
    "    if acc < accmin:\n",
    "        accmin = acc\n",
    "        \n",
    "    if acc > accmax:\n",
    "        accmax = acc\n",
    "         \n",
    "    accavg += acc\n",
    "    print (f\"Accuracy {acc:.5f}\")\n",
    "\n",
    "print (\"Min Accuracy: {:.5f} | Max Accuracy {:.5f} | Avg Accuracy {:.5f}\".format(accmin,accmax,accavg/(i+1)) )\n"
   ]
  },
  {
   "cell_type": "code",
   "execution_count": 27,
   "id": "0afe51d6",
   "metadata": {
    "scrolled": true
   },
   "outputs": [
    {
     "name": "stdout",
     "output_type": "stream",
     "text": [
      "Feature MS_SubClass          -> Scale:   15.00\n",
      "Feature Lot_Frontage         -> Scale:  128.00\n",
      "Feature Lot_Area             -> Scale: 1959.00\n",
      "Feature Alley                -> Scale:    2.00\n",
      "Feature Lot_Shape            -> Scale:    3.00\n",
      "Feature Neighborhood         -> Scale:   27.00\n",
      "Feature Condition_1          -> Scale:    8.00\n",
      "Feature House_Style          -> Scale:    7.00\n",
      "Feature Overall_Qual         -> Scale:    9.00\n",
      "Feature Year_Built           -> Scale:  117.00\n",
      "Feature Year_Remod_Add       -> Scale:   60.00\n",
      "Feature Roof_Style           -> Scale:    5.00\n",
      "Feature Exterior_1st         -> Scale:   15.00\n",
      "Feature Exterior_2nd         -> Scale:   16.00\n",
      "Feature Mas_Vnr_Area         -> Scale:  444.00\n",
      "Feature Exter_Cond           -> Scale:    4.00\n",
      "Feature Foundation           -> Scale:    5.00\n",
      "Feature Bsmt_Cond            -> Scale:    5.00\n",
      "Feature Bsmt_Unf_SF          -> Scale: 1136.00\n",
      "Feature Total_Bsmt_SF        -> Scale: 1057.00\n",
      "Feature Central_Air          -> Scale:    1.00\n",
      "Feature Electrical           -> Scale:    5.00\n",
      "Feature First_Flr_SF         -> Scale: 1082.00\n",
      "Feature Second_Flr_SF        -> Scale:  634.00\n",
      "Feature Gr_Liv_Area          -> Scale: 1291.00\n",
      "Feature Bsmt_Full_Bath       -> Scale:    3.00\n",
      "Feature Full_Bath            -> Scale:    4.00\n",
      "Feature Half_Bath            -> Scale:    2.00\n",
      "Feature Bedroom_AbvGr        -> Scale:    7.00\n",
      "Feature TotRms_AbvGrd        -> Scale:   13.00\n",
      "Feature Functional           -> Scale:    7.00\n",
      "Feature Fireplaces           -> Scale:    4.00\n",
      "Feature Garage_Cars          -> Scale:    5.00\n",
      "Feature Garage_Area          -> Scale:  602.00\n",
      "Feature Garage_Qual          -> Scale:    5.00\n",
      "Feature Garage_Cond          -> Scale:    5.00\n",
      "Feature Paved_Drive          -> Scale:    2.00\n",
      "Feature Wood_Deck_SF         -> Scale:  379.00\n",
      "Feature Open_Porch_SF        -> Scale:  251.00\n",
      "Feature Screen_Porch         -> Scale:  120.00\n",
      "Feature Fence                -> Scale:    4.00\n",
      "Feature Sale_Condition       -> Scale:    5.00\n",
      "Feature Sale_Price           -> Scale: 1031.00\n",
      "Feature Latitude             -> Scale: 2746.00\n"
     ]
    }
   ],
   "source": [
    "for f in X.columns:\n",
    "    print (\"Feature {:20} -> Scale: {:7.2f}\".format(f, X.loc[:,f].max() - X.loc[:,f].min()) )"
   ]
  },
  {
   "cell_type": "code",
   "execution_count": 85,
   "id": "0a52ae09",
   "metadata": {},
   "outputs": [
    {
     "name": "stderr",
     "output_type": "stream",
     "text": [
      "E:\\Program Files\\Anaconda\\lib\\site-packages\\sklearn\\neighbors\\_classification.py:228: FutureWarning: Unlike other reduction functions (e.g. `skew`, `kurtosis`), the default behavior of `mode` typically preserves the axis it acts along. In SciPy 1.11.0, this behavior will change: the default value of `keepdims` will become False, the `axis` over which the statistic is taken will be eliminated, and the value None will no longer be accepted. Set `keepdims` to True or False to avoid this warning.\n",
      "  mode, _ = stats.mode(_y[neigh_ind, k], axis=1)\n",
      "E:\\Program Files\\Anaconda\\lib\\site-packages\\sklearn\\neighbors\\_classification.py:228: FutureWarning: Unlike other reduction functions (e.g. `skew`, `kurtosis`), the default behavior of `mode` typically preserves the axis it acts along. In SciPy 1.11.0, this behavior will change: the default value of `keepdims` will become False, the `axis` over which the statistic is taken will be eliminated, and the value None will no longer be accepted. Set `keepdims` to True or False to avoid this warning.\n",
      "  mode, _ = stats.mode(_y[neigh_ind, k], axis=1)\n"
     ]
    },
    {
     "name": "stdout",
     "output_type": "stream",
     "text": [
      "k:  1 | Accuracy 0.81696\n",
      "k:  2 | Accuracy 0.81282\n"
     ]
    },
    {
     "name": "stderr",
     "output_type": "stream",
     "text": [
      "E:\\Program Files\\Anaconda\\lib\\site-packages\\sklearn\\neighbors\\_classification.py:228: FutureWarning: Unlike other reduction functions (e.g. `skew`, `kurtosis`), the default behavior of `mode` typically preserves the axis it acts along. In SciPy 1.11.0, this behavior will change: the default value of `keepdims` will become False, the `axis` over which the statistic is taken will be eliminated, and the value None will no longer be accepted. Set `keepdims` to True or False to avoid this warning.\n",
      "  mode, _ = stats.mode(_y[neigh_ind, k], axis=1)\n",
      "E:\\Program Files\\Anaconda\\lib\\site-packages\\sklearn\\neighbors\\_classification.py:228: FutureWarning: Unlike other reduction functions (e.g. `skew`, `kurtosis`), the default behavior of `mode` typically preserves the axis it acts along. In SciPy 1.11.0, this behavior will change: the default value of `keepdims` will become False, the `axis` over which the statistic is taken will be eliminated, and the value None will no longer be accepted. Set `keepdims` to True or False to avoid this warning.\n",
      "  mode, _ = stats.mode(_y[neigh_ind, k], axis=1)\n"
     ]
    },
    {
     "name": "stdout",
     "output_type": "stream",
     "text": [
      "k:  3 | Accuracy 0.82937\n",
      "k:  4 | Accuracy 0.81489\n"
     ]
    },
    {
     "name": "stderr",
     "output_type": "stream",
     "text": [
      "E:\\Program Files\\Anaconda\\lib\\site-packages\\sklearn\\neighbors\\_classification.py:228: FutureWarning: Unlike other reduction functions (e.g. `skew`, `kurtosis`), the default behavior of `mode` typically preserves the axis it acts along. In SciPy 1.11.0, this behavior will change: the default value of `keepdims` will become False, the `axis` over which the statistic is taken will be eliminated, and the value None will no longer be accepted. Set `keepdims` to True or False to avoid this warning.\n",
      "  mode, _ = stats.mode(_y[neigh_ind, k], axis=1)\n",
      "E:\\Program Files\\Anaconda\\lib\\site-packages\\sklearn\\neighbors\\_classification.py:228: FutureWarning: Unlike other reduction functions (e.g. `skew`, `kurtosis`), the default behavior of `mode` typically preserves the axis it acts along. In SciPy 1.11.0, this behavior will change: the default value of `keepdims` will become False, the `axis` over which the statistic is taken will be eliminated, and the value None will no longer be accepted. Set `keepdims` to True or False to avoid this warning.\n",
      "  mode, _ = stats.mode(_y[neigh_ind, k], axis=1)\n"
     ]
    },
    {
     "name": "stdout",
     "output_type": "stream",
     "text": [
      "k:  5 | Accuracy 0.82420\n",
      "k:  6 | Accuracy 0.81179\n"
     ]
    },
    {
     "name": "stderr",
     "output_type": "stream",
     "text": [
      "E:\\Program Files\\Anaconda\\lib\\site-packages\\sklearn\\neighbors\\_classification.py:228: FutureWarning: Unlike other reduction functions (e.g. `skew`, `kurtosis`), the default behavior of `mode` typically preserves the axis it acts along. In SciPy 1.11.0, this behavior will change: the default value of `keepdims` will become False, the `axis` over which the statistic is taken will be eliminated, and the value None will no longer be accepted. Set `keepdims` to True or False to avoid this warning.\n",
      "  mode, _ = stats.mode(_y[neigh_ind, k], axis=1)\n",
      "E:\\Program Files\\Anaconda\\lib\\site-packages\\sklearn\\neighbors\\_classification.py:228: FutureWarning: Unlike other reduction functions (e.g. `skew`, `kurtosis`), the default behavior of `mode` typically preserves the axis it acts along. In SciPy 1.11.0, this behavior will change: the default value of `keepdims` will become False, the `axis` over which the statistic is taken will be eliminated, and the value None will no longer be accepted. Set `keepdims` to True or False to avoid this warning.\n",
      "  mode, _ = stats.mode(_y[neigh_ind, k], axis=1)\n"
     ]
    },
    {
     "name": "stdout",
     "output_type": "stream",
     "text": [
      "k:  7 | Accuracy 0.81593\n",
      "k:  8 | Accuracy 0.80352\n"
     ]
    },
    {
     "name": "stderr",
     "output_type": "stream",
     "text": [
      "E:\\Program Files\\Anaconda\\lib\\site-packages\\sklearn\\neighbors\\_classification.py:228: FutureWarning: Unlike other reduction functions (e.g. `skew`, `kurtosis`), the default behavior of `mode` typically preserves the axis it acts along. In SciPy 1.11.0, this behavior will change: the default value of `keepdims` will become False, the `axis` over which the statistic is taken will be eliminated, and the value None will no longer be accepted. Set `keepdims` to True or False to avoid this warning.\n",
      "  mode, _ = stats.mode(_y[neigh_ind, k], axis=1)\n",
      "E:\\Program Files\\Anaconda\\lib\\site-packages\\sklearn\\neighbors\\_classification.py:228: FutureWarning: Unlike other reduction functions (e.g. `skew`, `kurtosis`), the default behavior of `mode` typically preserves the axis it acts along. In SciPy 1.11.0, this behavior will change: the default value of `keepdims` will become False, the `axis` over which the statistic is taken will be eliminated, and the value None will no longer be accepted. Set `keepdims` to True or False to avoid this warning.\n",
      "  mode, _ = stats.mode(_y[neigh_ind, k], axis=1)\n"
     ]
    },
    {
     "name": "stdout",
     "output_type": "stream",
     "text": [
      "k:  9 | Accuracy 0.80248\n",
      "k: 10 | Accuracy 0.79938\n"
     ]
    },
    {
     "name": "stderr",
     "output_type": "stream",
     "text": [
      "E:\\Program Files\\Anaconda\\lib\\site-packages\\sklearn\\neighbors\\_classification.py:228: FutureWarning: Unlike other reduction functions (e.g. `skew`, `kurtosis`), the default behavior of `mode` typically preserves the axis it acts along. In SciPy 1.11.0, this behavior will change: the default value of `keepdims` will become False, the `axis` over which the statistic is taken will be eliminated, and the value None will no longer be accepted. Set `keepdims` to True or False to avoid this warning.\n",
      "  mode, _ = stats.mode(_y[neigh_ind, k], axis=1)\n",
      "E:\\Program Files\\Anaconda\\lib\\site-packages\\sklearn\\neighbors\\_classification.py:228: FutureWarning: Unlike other reduction functions (e.g. `skew`, `kurtosis`), the default behavior of `mode` typically preserves the axis it acts along. In SciPy 1.11.0, this behavior will change: the default value of `keepdims` will become False, the `axis` over which the statistic is taken will be eliminated, and the value None will no longer be accepted. Set `keepdims` to True or False to avoid this warning.\n",
      "  mode, _ = stats.mode(_y[neigh_ind, k], axis=1)\n"
     ]
    },
    {
     "name": "stdout",
     "output_type": "stream",
     "text": [
      "k: 11 | Accuracy 0.79731\n",
      "k: 12 | Accuracy 0.78800\n"
     ]
    },
    {
     "name": "stderr",
     "output_type": "stream",
     "text": [
      "E:\\Program Files\\Anaconda\\lib\\site-packages\\sklearn\\neighbors\\_classification.py:228: FutureWarning: Unlike other reduction functions (e.g. `skew`, `kurtosis`), the default behavior of `mode` typically preserves the axis it acts along. In SciPy 1.11.0, this behavior will change: the default value of `keepdims` will become False, the `axis` over which the statistic is taken will be eliminated, and the value None will no longer be accepted. Set `keepdims` to True or False to avoid this warning.\n",
      "  mode, _ = stats.mode(_y[neigh_ind, k], axis=1)\n",
      "E:\\Program Files\\Anaconda\\lib\\site-packages\\sklearn\\neighbors\\_classification.py:228: FutureWarning: Unlike other reduction functions (e.g. `skew`, `kurtosis`), the default behavior of `mode` typically preserves the axis it acts along. In SciPy 1.11.0, this behavior will change: the default value of `keepdims` will become False, the `axis` over which the statistic is taken will be eliminated, and the value None will no longer be accepted. Set `keepdims` to True or False to avoid this warning.\n",
      "  mode, _ = stats.mode(_y[neigh_ind, k], axis=1)\n"
     ]
    },
    {
     "name": "stdout",
     "output_type": "stream",
     "text": [
      "k: 13 | Accuracy 0.78697\n",
      "k: 14 | Accuracy 0.78490\n"
     ]
    },
    {
     "name": "stderr",
     "output_type": "stream",
     "text": [
      "E:\\Program Files\\Anaconda\\lib\\site-packages\\sklearn\\neighbors\\_classification.py:228: FutureWarning: Unlike other reduction functions (e.g. `skew`, `kurtosis`), the default behavior of `mode` typically preserves the axis it acts along. In SciPy 1.11.0, this behavior will change: the default value of `keepdims` will become False, the `axis` over which the statistic is taken will be eliminated, and the value None will no longer be accepted. Set `keepdims` to True or False to avoid this warning.\n",
      "  mode, _ = stats.mode(_y[neigh_ind, k], axis=1)\n"
     ]
    },
    {
     "name": "stdout",
     "output_type": "stream",
     "text": [
      "k: 15 | Accuracy 0.79111\n",
      "k: 16 | Accuracy 0.78490\n"
     ]
    },
    {
     "name": "stderr",
     "output_type": "stream",
     "text": [
      "E:\\Program Files\\Anaconda\\lib\\site-packages\\sklearn\\neighbors\\_classification.py:228: FutureWarning: Unlike other reduction functions (e.g. `skew`, `kurtosis`), the default behavior of `mode` typically preserves the axis it acts along. In SciPy 1.11.0, this behavior will change: the default value of `keepdims` will become False, the `axis` over which the statistic is taken will be eliminated, and the value None will no longer be accepted. Set `keepdims` to True or False to avoid this warning.\n",
      "  mode, _ = stats.mode(_y[neigh_ind, k], axis=1)\n",
      "E:\\Program Files\\Anaconda\\lib\\site-packages\\sklearn\\neighbors\\_classification.py:228: FutureWarning: Unlike other reduction functions (e.g. `skew`, `kurtosis`), the default behavior of `mode` typically preserves the axis it acts along. In SciPy 1.11.0, this behavior will change: the default value of `keepdims` will become False, the `axis` over which the statistic is taken will be eliminated, and the value None will no longer be accepted. Set `keepdims` to True or False to avoid this warning.\n",
      "  mode, _ = stats.mode(_y[neigh_ind, k], axis=1)\n"
     ]
    },
    {
     "name": "stdout",
     "output_type": "stream",
     "text": [
      "k: 17 | Accuracy 0.78697\n",
      "k: 18 | Accuracy 0.77559\n"
     ]
    },
    {
     "name": "stderr",
     "output_type": "stream",
     "text": [
      "E:\\Program Files\\Anaconda\\lib\\site-packages\\sklearn\\neighbors\\_classification.py:228: FutureWarning: Unlike other reduction functions (e.g. `skew`, `kurtosis`), the default behavior of `mode` typically preserves the axis it acts along. In SciPy 1.11.0, this behavior will change: the default value of `keepdims` will become False, the `axis` over which the statistic is taken will be eliminated, and the value None will no longer be accepted. Set `keepdims` to True or False to avoid this warning.\n",
      "  mode, _ = stats.mode(_y[neigh_ind, k], axis=1)\n",
      "E:\\Program Files\\Anaconda\\lib\\site-packages\\sklearn\\neighbors\\_classification.py:228: FutureWarning: Unlike other reduction functions (e.g. `skew`, `kurtosis`), the default behavior of `mode` typically preserves the axis it acts along. In SciPy 1.11.0, this behavior will change: the default value of `keepdims` will become False, the `axis` over which the statistic is taken will be eliminated, and the value None will no longer be accepted. Set `keepdims` to True or False to avoid this warning.\n",
      "  mode, _ = stats.mode(_y[neigh_ind, k], axis=1)\n"
     ]
    },
    {
     "name": "stdout",
     "output_type": "stream",
     "text": [
      "k: 19 | Accuracy 0.77973\n",
      "k: 20 | Accuracy 0.76525\n",
      "Min Accuracy: 0.76525 | Max Accuracy 0.82937 | Avg Accuracy 0.79948\n"
     ]
    },
    {
     "name": "stderr",
     "output_type": "stream",
     "text": [
      "E:\\Program Files\\Anaconda\\lib\\site-packages\\sklearn\\neighbors\\_classification.py:228: FutureWarning: Unlike other reduction functions (e.g. `skew`, `kurtosis`), the default behavior of `mode` typically preserves the axis it acts along. In SciPy 1.11.0, this behavior will change: the default value of `keepdims` will become False, the `axis` over which the statistic is taken will be eliminated, and the value None will no longer be accepted. Set `keepdims` to True or False to avoid this warning.\n",
      "  mode, _ = stats.mode(_y[neigh_ind, k], axis=1)\n"
     ]
    }
   ],
   "source": [
    "from sklearn.preprocessing import MinMaxScaler\n",
    "\n",
    "from sklearn.neighbors import KNeighborsClassifier\n",
    "from sklearn.metrics import accuracy_score\n",
    "from sklearn.model_selection import train_test_split\n",
    "\n",
    "X_train, X_test, y_train, y_test = train_test_split(\n",
    "    X, y, test_size=0.33, random_state=42)\n",
    "\n",
    "scaler = MinMaxScaler()\n",
    "scaler.fit(X_train)\n",
    " \n",
    "for k in range(1,21):\n",
    "    \n",
    "    kNN = KNeighborsClassifier(n_neighbors=k)\n",
    "    kNN.fit( scaler.transform(X_train), y_train )\n",
    "    y_pred = kNN.predict( scaler.transform(X_test) )\n",
    "\n",
    "    # compute Accuracy\n",
    "    acc = accuracy_score(y_true=y_test, y_pred=y_pred)\n",
    "    if k <= 1:\n",
    "        accmin = acc\n",
    "        accmax = acc\n",
    "        accavg = acc\n",
    "        \n",
    "    if acc < accmin:\n",
    "        accmin = acc\n",
    "        \n",
    "    if acc > accmax:\n",
    "        accmax = acc\n",
    "         \n",
    "    accavg += acc\n",
    "    print (\"k: {:2d} | Accuracy {:.5f}\".format(k,acc) )\n",
    "\n",
    "print (\"Min Accuracy: {:.5f} | Max Accuracy {:.5f} | Avg Accuracy {:.5f}\".format(accmin,accmax,accavg/(k+1)) )\n"
   ]
  },
  {
   "cell_type": "code",
   "execution_count": 84,
   "id": "7b0328f7",
   "metadata": {},
   "outputs": [
    {
     "name": "stderr",
     "output_type": "stream",
     "text": [
      "E:\\Program Files\\Anaconda\\lib\\site-packages\\sklearn\\neighbors\\_classification.py:228: FutureWarning: Unlike other reduction functions (e.g. `skew`, `kurtosis`), the default behavior of `mode` typically preserves the axis it acts along. In SciPy 1.11.0, this behavior will change: the default value of `keepdims` will become False, the `axis` over which the statistic is taken will be eliminated, and the value None will no longer be accepted. Set `keepdims` to True or False to avoid this warning.\n",
      "  mode, _ = stats.mode(_y[neigh_ind, k], axis=1)\n",
      "E:\\Program Files\\Anaconda\\lib\\site-packages\\sklearn\\neighbors\\_classification.py:228: FutureWarning: Unlike other reduction functions (e.g. `skew`, `kurtosis`), the default behavior of `mode` typically preserves the axis it acts along. In SciPy 1.11.0, this behavior will change: the default value of `keepdims` will become False, the `axis` over which the statistic is taken will be eliminated, and the value None will no longer be accepted. Set `keepdims` to True or False to avoid this warning.\n",
      "  mode, _ = stats.mode(_y[neigh_ind, k], axis=1)\n"
     ]
    },
    {
     "name": "stdout",
     "output_type": "stream",
     "text": [
      "k:  1 | Accuracy 0.78077\n",
      "k:  2 | Accuracy 0.78800\n"
     ]
    },
    {
     "name": "stderr",
     "output_type": "stream",
     "text": [
      "E:\\Program Files\\Anaconda\\lib\\site-packages\\sklearn\\neighbors\\_classification.py:228: FutureWarning: Unlike other reduction functions (e.g. `skew`, `kurtosis`), the default behavior of `mode` typically preserves the axis it acts along. In SciPy 1.11.0, this behavior will change: the default value of `keepdims` will become False, the `axis` over which the statistic is taken will be eliminated, and the value None will no longer be accepted. Set `keepdims` to True or False to avoid this warning.\n",
      "  mode, _ = stats.mode(_y[neigh_ind, k], axis=1)\n",
      "E:\\Program Files\\Anaconda\\lib\\site-packages\\sklearn\\neighbors\\_classification.py:228: FutureWarning: Unlike other reduction functions (e.g. `skew`, `kurtosis`), the default behavior of `mode` typically preserves the axis it acts along. In SciPy 1.11.0, this behavior will change: the default value of `keepdims` will become False, the `axis` over which the statistic is taken will be eliminated, and the value None will no longer be accepted. Set `keepdims` to True or False to avoid this warning.\n",
      "  mode, _ = stats.mode(_y[neigh_ind, k], axis=1)\n"
     ]
    },
    {
     "name": "stdout",
     "output_type": "stream",
     "text": [
      "k:  3 | Accuracy 0.79628\n",
      "k:  4 | Accuracy 0.79214\n"
     ]
    },
    {
     "name": "stderr",
     "output_type": "stream",
     "text": [
      "E:\\Program Files\\Anaconda\\lib\\site-packages\\sklearn\\neighbors\\_classification.py:228: FutureWarning: Unlike other reduction functions (e.g. `skew`, `kurtosis`), the default behavior of `mode` typically preserves the axis it acts along. In SciPy 1.11.0, this behavior will change: the default value of `keepdims` will become False, the `axis` over which the statistic is taken will be eliminated, and the value None will no longer be accepted. Set `keepdims` to True or False to avoid this warning.\n",
      "  mode, _ = stats.mode(_y[neigh_ind, k], axis=1)\n",
      "E:\\Program Files\\Anaconda\\lib\\site-packages\\sklearn\\neighbors\\_classification.py:228: FutureWarning: Unlike other reduction functions (e.g. `skew`, `kurtosis`), the default behavior of `mode` typically preserves the axis it acts along. In SciPy 1.11.0, this behavior will change: the default value of `keepdims` will become False, the `axis` over which the statistic is taken will be eliminated, and the value None will no longer be accepted. Set `keepdims` to True or False to avoid this warning.\n",
      "  mode, _ = stats.mode(_y[neigh_ind, k], axis=1)\n"
     ]
    },
    {
     "name": "stdout",
     "output_type": "stream",
     "text": [
      "k:  5 | Accuracy 0.79007\n",
      "k:  6 | Accuracy 0.78490\n"
     ]
    },
    {
     "name": "stderr",
     "output_type": "stream",
     "text": [
      "E:\\Program Files\\Anaconda\\lib\\site-packages\\sklearn\\neighbors\\_classification.py:228: FutureWarning: Unlike other reduction functions (e.g. `skew`, `kurtosis`), the default behavior of `mode` typically preserves the axis it acts along. In SciPy 1.11.0, this behavior will change: the default value of `keepdims` will become False, the `axis` over which the statistic is taken will be eliminated, and the value None will no longer be accepted. Set `keepdims` to True or False to avoid this warning.\n",
      "  mode, _ = stats.mode(_y[neigh_ind, k], axis=1)\n"
     ]
    },
    {
     "name": "stdout",
     "output_type": "stream",
     "text": [
      "k:  7 | Accuracy 0.78800\n",
      "k:  8 | Accuracy 0.77870\n"
     ]
    },
    {
     "name": "stderr",
     "output_type": "stream",
     "text": [
      "E:\\Program Files\\Anaconda\\lib\\site-packages\\sklearn\\neighbors\\_classification.py:228: FutureWarning: Unlike other reduction functions (e.g. `skew`, `kurtosis`), the default behavior of `mode` typically preserves the axis it acts along. In SciPy 1.11.0, this behavior will change: the default value of `keepdims` will become False, the `axis` over which the statistic is taken will be eliminated, and the value None will no longer be accepted. Set `keepdims` to True or False to avoid this warning.\n",
      "  mode, _ = stats.mode(_y[neigh_ind, k], axis=1)\n",
      "E:\\Program Files\\Anaconda\\lib\\site-packages\\sklearn\\neighbors\\_classification.py:228: FutureWarning: Unlike other reduction functions (e.g. `skew`, `kurtosis`), the default behavior of `mode` typically preserves the axis it acts along. In SciPy 1.11.0, this behavior will change: the default value of `keepdims` will become False, the `axis` over which the statistic is taken will be eliminated, and the value None will no longer be accepted. Set `keepdims` to True or False to avoid this warning.\n",
      "  mode, _ = stats.mode(_y[neigh_ind, k], axis=1)\n",
      "E:\\Program Files\\Anaconda\\lib\\site-packages\\sklearn\\neighbors\\_classification.py:228: FutureWarning: Unlike other reduction functions (e.g. `skew`, `kurtosis`), the default behavior of `mode` typically preserves the axis it acts along. In SciPy 1.11.0, this behavior will change: the default value of `keepdims` will become False, the `axis` over which the statistic is taken will be eliminated, and the value None will no longer be accepted. Set `keepdims` to True or False to avoid this warning.\n",
      "  mode, _ = stats.mode(_y[neigh_ind, k], axis=1)\n"
     ]
    },
    {
     "name": "stdout",
     "output_type": "stream",
     "text": [
      "k:  9 | Accuracy 0.79835\n",
      "k: 10 | Accuracy 0.77973\n"
     ]
    },
    {
     "name": "stderr",
     "output_type": "stream",
     "text": [
      "E:\\Program Files\\Anaconda\\lib\\site-packages\\sklearn\\neighbors\\_classification.py:228: FutureWarning: Unlike other reduction functions (e.g. `skew`, `kurtosis`), the default behavior of `mode` typically preserves the axis it acts along. In SciPy 1.11.0, this behavior will change: the default value of `keepdims` will become False, the `axis` over which the statistic is taken will be eliminated, and the value None will no longer be accepted. Set `keepdims` to True or False to avoid this warning.\n",
      "  mode, _ = stats.mode(_y[neigh_ind, k], axis=1)\n",
      "E:\\Program Files\\Anaconda\\lib\\site-packages\\sklearn\\neighbors\\_classification.py:228: FutureWarning: Unlike other reduction functions (e.g. `skew`, `kurtosis`), the default behavior of `mode` typically preserves the axis it acts along. In SciPy 1.11.0, this behavior will change: the default value of `keepdims` will become False, the `axis` over which the statistic is taken will be eliminated, and the value None will no longer be accepted. Set `keepdims` to True or False to avoid this warning.\n",
      "  mode, _ = stats.mode(_y[neigh_ind, k], axis=1)\n"
     ]
    },
    {
     "name": "stdout",
     "output_type": "stream",
     "text": [
      "k: 11 | Accuracy 0.78180\n",
      "k: 12 | Accuracy 0.77146\n"
     ]
    },
    {
     "name": "stderr",
     "output_type": "stream",
     "text": [
      "E:\\Program Files\\Anaconda\\lib\\site-packages\\sklearn\\neighbors\\_classification.py:228: FutureWarning: Unlike other reduction functions (e.g. `skew`, `kurtosis`), the default behavior of `mode` typically preserves the axis it acts along. In SciPy 1.11.0, this behavior will change: the default value of `keepdims` will become False, the `axis` over which the statistic is taken will be eliminated, and the value None will no longer be accepted. Set `keepdims` to True or False to avoid this warning.\n",
      "  mode, _ = stats.mode(_y[neigh_ind, k], axis=1)\n",
      "E:\\Program Files\\Anaconda\\lib\\site-packages\\sklearn\\neighbors\\_classification.py:228: FutureWarning: Unlike other reduction functions (e.g. `skew`, `kurtosis`), the default behavior of `mode` typically preserves the axis it acts along. In SciPy 1.11.0, this behavior will change: the default value of `keepdims` will become False, the `axis` over which the statistic is taken will be eliminated, and the value None will no longer be accepted. Set `keepdims` to True or False to avoid this warning.\n",
      "  mode, _ = stats.mode(_y[neigh_ind, k], axis=1)\n"
     ]
    },
    {
     "name": "stdout",
     "output_type": "stream",
     "text": [
      "k: 13 | Accuracy 0.77146\n",
      "k: 14 | Accuracy 0.77456\n"
     ]
    },
    {
     "name": "stderr",
     "output_type": "stream",
     "text": [
      "E:\\Program Files\\Anaconda\\lib\\site-packages\\sklearn\\neighbors\\_classification.py:228: FutureWarning: Unlike other reduction functions (e.g. `skew`, `kurtosis`), the default behavior of `mode` typically preserves the axis it acts along. In SciPy 1.11.0, this behavior will change: the default value of `keepdims` will become False, the `axis` over which the statistic is taken will be eliminated, and the value None will no longer be accepted. Set `keepdims` to True or False to avoid this warning.\n",
      "  mode, _ = stats.mode(_y[neigh_ind, k], axis=1)\n",
      "E:\\Program Files\\Anaconda\\lib\\site-packages\\sklearn\\neighbors\\_classification.py:228: FutureWarning: Unlike other reduction functions (e.g. `skew`, `kurtosis`), the default behavior of `mode` typically preserves the axis it acts along. In SciPy 1.11.0, this behavior will change: the default value of `keepdims` will become False, the `axis` over which the statistic is taken will be eliminated, and the value None will no longer be accepted. Set `keepdims` to True or False to avoid this warning.\n",
      "  mode, _ = stats.mode(_y[neigh_ind, k], axis=1)\n"
     ]
    },
    {
     "name": "stdout",
     "output_type": "stream",
     "text": [
      "k: 15 | Accuracy 0.77766\n",
      "k: 16 | Accuracy 0.77146\n"
     ]
    },
    {
     "name": "stderr",
     "output_type": "stream",
     "text": [
      "E:\\Program Files\\Anaconda\\lib\\site-packages\\sklearn\\neighbors\\_classification.py:228: FutureWarning: Unlike other reduction functions (e.g. `skew`, `kurtosis`), the default behavior of `mode` typically preserves the axis it acts along. In SciPy 1.11.0, this behavior will change: the default value of `keepdims` will become False, the `axis` over which the statistic is taken will be eliminated, and the value None will no longer be accepted. Set `keepdims` to True or False to avoid this warning.\n",
      "  mode, _ = stats.mode(_y[neigh_ind, k], axis=1)\n",
      "E:\\Program Files\\Anaconda\\lib\\site-packages\\sklearn\\neighbors\\_classification.py:228: FutureWarning: Unlike other reduction functions (e.g. `skew`, `kurtosis`), the default behavior of `mode` typically preserves the axis it acts along. In SciPy 1.11.0, this behavior will change: the default value of `keepdims` will become False, the `axis` over which the statistic is taken will be eliminated, and the value None will no longer be accepted. Set `keepdims` to True or False to avoid this warning.\n",
      "  mode, _ = stats.mode(_y[neigh_ind, k], axis=1)\n"
     ]
    },
    {
     "name": "stdout",
     "output_type": "stream",
     "text": [
      "k: 17 | Accuracy 0.77146\n",
      "k: 18 | Accuracy 0.76732\n",
      "k: 19 | Accuracy 0.76525\n",
      "k: 20 | Accuracy 0.76319\n",
      "Min Accuracy: 0.76319 | Max Accuracy 0.79835 | Avg Accuracy 0.77968\n"
     ]
    },
    {
     "name": "stderr",
     "output_type": "stream",
     "text": [
      "E:\\Program Files\\Anaconda\\lib\\site-packages\\sklearn\\neighbors\\_classification.py:228: FutureWarning: Unlike other reduction functions (e.g. `skew`, `kurtosis`), the default behavior of `mode` typically preserves the axis it acts along. In SciPy 1.11.0, this behavior will change: the default value of `keepdims` will become False, the `axis` over which the statistic is taken will be eliminated, and the value None will no longer be accepted. Set `keepdims` to True or False to avoid this warning.\n",
      "  mode, _ = stats.mode(_y[neigh_ind, k], axis=1)\n",
      "E:\\Program Files\\Anaconda\\lib\\site-packages\\sklearn\\neighbors\\_classification.py:228: FutureWarning: Unlike other reduction functions (e.g. `skew`, `kurtosis`), the default behavior of `mode` typically preserves the axis it acts along. In SciPy 1.11.0, this behavior will change: the default value of `keepdims` will become False, the `axis` over which the statistic is taken will be eliminated, and the value None will no longer be accepted. Set `keepdims` to True or False to avoid this warning.\n",
      "  mode, _ = stats.mode(_y[neigh_ind, k], axis=1)\n"
     ]
    }
   ],
   "source": [
    "from sklearn.preprocessing import StandardScaler\n",
    "\n",
    "from sklearn.neighbors import KNeighborsClassifier\n",
    "from sklearn.metrics import accuracy_score\n",
    "from sklearn.model_selection import train_test_split\n",
    "\n",
    "X_train, X_test, y_train, y_test = train_test_split(\n",
    "    X, y, test_size=0.33, random_state=42)\n",
    "\n",
    "scaler = StandardScaler()\n",
    "scaler.fit(X_train)\n",
    "\n",
    "for k in range(1,21):\n",
    "\n",
    "    kNN = KNeighborsClassifier(n_neighbors=k)\n",
    "    kNN.fit(scaler.transform(X_train),y_train)\n",
    "    y_pred = kNN.predict( scaler.transform(X_test) )\n",
    "\n",
    "    # compute Accuracy\n",
    "    acc = accuracy_score(y_true=y_test, y_pred=y_pred)\n",
    "    if k <= 1:\n",
    "        accmin = acc\n",
    "        accmax = acc\n",
    "        accavg = acc\n",
    "        \n",
    "    if acc < accmin:\n",
    "        accmin = acc\n",
    "        \n",
    "    if acc > accmax:\n",
    "        accmax = acc\n",
    "         \n",
    "    accavg += acc\n",
    "    print (\"k: {:2d} | Accuracy {:.5f}\".format(k,acc) )\n",
    "\n",
    "print (\"Min Accuracy: {:.5f} | Max Accuracy {:.5f} | Avg Accuracy {:.5f}\".format(accmin,accmax,accavg/(k+1)) )\n"
   ]
  },
  {
   "cell_type": "code",
   "execution_count": 87,
   "id": "29552d48",
   "metadata": {},
   "outputs": [
    {
     "ename": "ModuleNotFoundError",
     "evalue": "No module named 'lightgbm'",
     "output_type": "error",
     "traceback": [
      "\u001b[1;31m---------------------------------------------------------------------------\u001b[0m",
      "\u001b[1;31mModuleNotFoundError\u001b[0m                       Traceback (most recent call last)",
      "\u001b[1;32m~\\AppData\\Local\\Temp\\ipykernel_6684\\1273417397.py\u001b[0m in \u001b[0;36m<module>\u001b[1;34m\u001b[0m\n\u001b[1;32m----> 1\u001b[1;33m \u001b[1;32mimport\u001b[0m \u001b[0mlightgbm\u001b[0m \u001b[1;32mas\u001b[0m \u001b[0mlgb\u001b[0m\u001b[1;33m\u001b[0m\u001b[1;33m\u001b[0m\u001b[0m\n\u001b[0m\u001b[0;32m      2\u001b[0m \u001b[1;32mfrom\u001b[0m \u001b[0msklearn\u001b[0m\u001b[1;33m.\u001b[0m\u001b[0mmetrics\u001b[0m \u001b[1;32mimport\u001b[0m \u001b[0maccuracy_score\u001b[0m\u001b[1;33m\u001b[0m\u001b[1;33m\u001b[0m\u001b[0m\n\u001b[0;32m      3\u001b[0m \u001b[1;32mfrom\u001b[0m \u001b[0msklearn\u001b[0m\u001b[1;33m.\u001b[0m\u001b[0mmodel_selection\u001b[0m \u001b[1;32mimport\u001b[0m \u001b[0mtrain_test_split\u001b[0m\u001b[1;33m\u001b[0m\u001b[1;33m\u001b[0m\u001b[0m\n\u001b[0;32m      4\u001b[0m \u001b[1;33m\u001b[0m\u001b[0m\n\u001b[0;32m      5\u001b[0m X_train, X_test, y_train, y_test = train_test_split(\n",
      "\u001b[1;31mModuleNotFoundError\u001b[0m: No module named 'lightgbm'"
     ]
    }
   ],
   "source": [
    "import lightgbm as lgb\n",
    "from sklearn.metrics import accuracy_score\n",
    "from sklearn.model_selection import train_test_split\n",
    "\n",
    "X_train, X_test, y_train, y_test = train_test_split(\n",
    "X, y, test_size=0.33, random_state=42)\n",
    "\n",
    "scaler = MinMaxScaler()\n",
    "scaler.fit(X_train)\n",
    "\n",
    "for k in range(1,21):\n",
    "    gbm = lgb.LGBMClassifier(n_neighbors=k)\n",
    "    gbm.fit( scaler.transform(X_train), y_train )\n",
    "    y_pred = gbm.predict( scaler.transform(X_test) )\n",
    "\n",
    "    # compute Accuracy\n",
    "    acc = accuracy_score(y_true=y_test, y_pred=y_pred)\n",
    "    if k <= 1:\n",
    "        accmin = acc\n",
    "        accmax = acc\n",
    "        accavg = acc\n",
    "\n",
    "    if acc < accmin:\n",
    "        accmin = acc\n",
    "\n",
    "    if acc > accmax:\n",
    "        accmax = acc\n",
    "\n",
    "    accavg += acc\n",
    "print (\"k: {:2d} | Accuracy {:.5f}\".format(k,acc) )"
   ]
  },
  {
   "cell_type": "code",
   "execution_count": 30,
   "id": "2738e501",
   "metadata": {
    "scrolled": true
   },
   "outputs": [
    {
     "name": "stderr",
     "output_type": "stream",
     "text": [
      "E:\\Program Files\\Anaconda\\lib\\site-packages\\sklearn\\neighbors\\_classification.py:228: FutureWarning: Unlike other reduction functions (e.g. `skew`, `kurtosis`), the default behavior of `mode` typically preserves the axis it acts along. In SciPy 1.11.0, this behavior will change: the default value of `keepdims` will become False, the `axis` over which the statistic is taken will be eliminated, and the value None will no longer be accepted. Set `keepdims` to True or False to avoid this warning.\n",
      "  mode, _ = stats.mode(_y[neigh_ind, k], axis=1)\n"
     ]
    },
    {
     "name": "stdout",
     "output_type": "stream",
     "text": [
      "k:  1 | Accuracy 0.99586\n"
     ]
    },
    {
     "name": "stderr",
     "output_type": "stream",
     "text": [
      "E:\\Program Files\\Anaconda\\lib\\site-packages\\sklearn\\neighbors\\_classification.py:228: FutureWarning: Unlike other reduction functions (e.g. `skew`, `kurtosis`), the default behavior of `mode` typically preserves the axis it acts along. In SciPy 1.11.0, this behavior will change: the default value of `keepdims` will become False, the `axis` over which the statistic is taken will be eliminated, and the value None will no longer be accepted. Set `keepdims` to True or False to avoid this warning.\n",
      "  mode, _ = stats.mode(_y[neigh_ind, k], axis=1)\n"
     ]
    },
    {
     "name": "stdout",
     "output_type": "stream",
     "text": [
      "k:  2 | Accuracy 0.99483\n"
     ]
    },
    {
     "name": "stderr",
     "output_type": "stream",
     "text": [
      "E:\\Program Files\\Anaconda\\lib\\site-packages\\sklearn\\neighbors\\_classification.py:228: FutureWarning: Unlike other reduction functions (e.g. `skew`, `kurtosis`), the default behavior of `mode` typically preserves the axis it acts along. In SciPy 1.11.0, this behavior will change: the default value of `keepdims` will become False, the `axis` over which the statistic is taken will be eliminated, and the value None will no longer be accepted. Set `keepdims` to True or False to avoid this warning.\n",
      "  mode, _ = stats.mode(_y[neigh_ind, k], axis=1)\n"
     ]
    },
    {
     "name": "stdout",
     "output_type": "stream",
     "text": [
      "k:  3 | Accuracy 0.99276\n"
     ]
    },
    {
     "name": "stderr",
     "output_type": "stream",
     "text": [
      "E:\\Program Files\\Anaconda\\lib\\site-packages\\sklearn\\neighbors\\_classification.py:228: FutureWarning: Unlike other reduction functions (e.g. `skew`, `kurtosis`), the default behavior of `mode` typically preserves the axis it acts along. In SciPy 1.11.0, this behavior will change: the default value of `keepdims` will become False, the `axis` over which the statistic is taken will be eliminated, and the value None will no longer be accepted. Set `keepdims` to True or False to avoid this warning.\n",
      "  mode, _ = stats.mode(_y[neigh_ind, k], axis=1)\n"
     ]
    },
    {
     "name": "stdout",
     "output_type": "stream",
     "text": [
      "k:  4 | Accuracy 0.99173\n"
     ]
    },
    {
     "name": "stderr",
     "output_type": "stream",
     "text": [
      "E:\\Program Files\\Anaconda\\lib\\site-packages\\sklearn\\neighbors\\_classification.py:228: FutureWarning: Unlike other reduction functions (e.g. `skew`, `kurtosis`), the default behavior of `mode` typically preserves the axis it acts along. In SciPy 1.11.0, this behavior will change: the default value of `keepdims` will become False, the `axis` over which the statistic is taken will be eliminated, and the value None will no longer be accepted. Set `keepdims` to True or False to avoid this warning.\n",
      "  mode, _ = stats.mode(_y[neigh_ind, k], axis=1)\n"
     ]
    },
    {
     "name": "stdout",
     "output_type": "stream",
     "text": [
      "k:  5 | Accuracy 0.98966\n"
     ]
    },
    {
     "name": "stderr",
     "output_type": "stream",
     "text": [
      "E:\\Program Files\\Anaconda\\lib\\site-packages\\sklearn\\neighbors\\_classification.py:228: FutureWarning: Unlike other reduction functions (e.g. `skew`, `kurtosis`), the default behavior of `mode` typically preserves the axis it acts along. In SciPy 1.11.0, this behavior will change: the default value of `keepdims` will become False, the `axis` over which the statistic is taken will be eliminated, and the value None will no longer be accepted. Set `keepdims` to True or False to avoid this warning.\n",
      "  mode, _ = stats.mode(_y[neigh_ind, k], axis=1)\n"
     ]
    },
    {
     "name": "stdout",
     "output_type": "stream",
     "text": [
      "k:  6 | Accuracy 0.98862\n"
     ]
    },
    {
     "name": "stderr",
     "output_type": "stream",
     "text": [
      "E:\\Program Files\\Anaconda\\lib\\site-packages\\sklearn\\neighbors\\_classification.py:228: FutureWarning: Unlike other reduction functions (e.g. `skew`, `kurtosis`), the default behavior of `mode` typically preserves the axis it acts along. In SciPy 1.11.0, this behavior will change: the default value of `keepdims` will become False, the `axis` over which the statistic is taken will be eliminated, and the value None will no longer be accepted. Set `keepdims` to True or False to avoid this warning.\n",
      "  mode, _ = stats.mode(_y[neigh_ind, k], axis=1)\n"
     ]
    },
    {
     "name": "stdout",
     "output_type": "stream",
     "text": [
      "k:  7 | Accuracy 0.98862\n"
     ]
    },
    {
     "name": "stderr",
     "output_type": "stream",
     "text": [
      "E:\\Program Files\\Anaconda\\lib\\site-packages\\sklearn\\neighbors\\_classification.py:228: FutureWarning: Unlike other reduction functions (e.g. `skew`, `kurtosis`), the default behavior of `mode` typically preserves the axis it acts along. In SciPy 1.11.0, this behavior will change: the default value of `keepdims` will become False, the `axis` over which the statistic is taken will be eliminated, and the value None will no longer be accepted. Set `keepdims` to True or False to avoid this warning.\n",
      "  mode, _ = stats.mode(_y[neigh_ind, k], axis=1)\n"
     ]
    },
    {
     "name": "stdout",
     "output_type": "stream",
     "text": [
      "k:  8 | Accuracy 0.98862\n"
     ]
    },
    {
     "name": "stderr",
     "output_type": "stream",
     "text": [
      "E:\\Program Files\\Anaconda\\lib\\site-packages\\sklearn\\neighbors\\_classification.py:228: FutureWarning: Unlike other reduction functions (e.g. `skew`, `kurtosis`), the default behavior of `mode` typically preserves the axis it acts along. In SciPy 1.11.0, this behavior will change: the default value of `keepdims` will become False, the `axis` over which the statistic is taken will be eliminated, and the value None will no longer be accepted. Set `keepdims` to True or False to avoid this warning.\n",
      "  mode, _ = stats.mode(_y[neigh_ind, k], axis=1)\n"
     ]
    },
    {
     "name": "stdout",
     "output_type": "stream",
     "text": [
      "k:  9 | Accuracy 0.98656\n",
      "k: 10 | Accuracy 0.98552\n",
      "Min Accuracy: 0.98552 | Max Accuracy 0.99586 | Avg Accuracy 0.99079\n"
     ]
    },
    {
     "name": "stderr",
     "output_type": "stream",
     "text": [
      "E:\\Program Files\\Anaconda\\lib\\site-packages\\sklearn\\neighbors\\_classification.py:228: FutureWarning: Unlike other reduction functions (e.g. `skew`, `kurtosis`), the default behavior of `mode` typically preserves the axis it acts along. In SciPy 1.11.0, this behavior will change: the default value of `keepdims` will become False, the `axis` over which the statistic is taken will be eliminated, and the value None will no longer be accepted. Set `keepdims` to True or False to avoid this warning.\n",
      "  mode, _ = stats.mode(_y[neigh_ind, k], axis=1)\n"
     ]
    }
   ],
   "source": [
    "from sklearn.neighbors import KNeighborsClassifier\n",
    "from sklearn.metrics import accuracy_score\n",
    "from sklearn.model_selection import train_test_split\n",
    "\n",
    "X_train, X_test, y_train, y_test = train_test_split(\n",
    "    X, y, test_size=0.33, random_state=42)\n",
    "\n",
    "def my_distance(a,b):\n",
    "    return 10*abs(a[0]-b[0]) + abs(a[1]-b[1])\n",
    "\n",
    "for k in range(1,11):\n",
    "    \n",
    "    kNN = KNeighborsClassifier(n_neighbors = k, \n",
    "                                         metric = my_distance)\n",
    "    kNN.fit( X_train ,y_train)\n",
    "    y_pred = kNN.predict( X_test )\n",
    "\n",
    "    # compute accuracy\n",
    "    acc = accuracy_score(y_true=y_test, y_pred=y_pred)\n",
    "    if k <= 1:\n",
    "        accmin = acc\n",
    "        accmax = acc\n",
    "        accavg = acc\n",
    "        \n",
    "    if acc < accmin:\n",
    "        accmin = acc\n",
    "        \n",
    "    if acc > accmax:\n",
    "        accmax = acc\n",
    "         \n",
    "    accavg += acc\n",
    "    print (\"k: {:2d} | Accuracy {:.5f}\".format(k,acc) )\n",
    "\n",
    "print (\"Min Accuracy: {:.5f} | Max Accuracy {:.5f} | Avg Accuracy {:.5f}\".format(accmin,accmax,accavg/(k+1)) )\n"
   ]
  },
  {
   "cell_type": "code",
   "execution_count": null,
   "id": "d39603af",
   "metadata": {},
   "outputs": [],
   "source": [
    "from sklearn.tree import DecisionTreeClassifier\n",
    "model = DecisionTreeClassifier()\n",
    "model.fit(X,y)"
   ]
  },
  {
   "cell_type": "code",
   "execution_count": null,
   "id": "4a33d9fe",
   "metadata": {},
   "outputs": [],
   "source": [
    "def model_decision_boundary(model, X, y):\n",
    "    x_min, x_max = X[:, 0].min() - .1, X[:, 0].max() + .1\n",
    "    y_min, y_max = X[:, 1].min() - .1, X[:, 1].max() + .1\n",
    "    zz = [ [xx,yy] for xx in np.linspace(x_min, x_max, 40) \n",
    "                   for yy in np.linspace(y_min, y_max, 40) ]\n",
    "    zz = np.array(zz)\n",
    "    z_labels = model.predict(zz)\n",
    "\n",
    "    plt.figure()\n",
    "    plt.scatter(zz[:,0], zz[:,1], c=z_labels, marker='+', alpha=0.3)\n",
    "    plt.scatter(X[:,0], X[:,1], c=y, alpha=0.6)\n",
    "\n",
    "model_decision_boundary(model, X, y)"
   ]
  },
  {
   "cell_type": "code",
   "execution_count": null,
   "id": "a82f88d5",
   "metadata": {},
   "outputs": [],
   "source": [
    "# Package imports\n",
    "import matplotlib.pyplot as plt\n",
    "import numpy as np\n",
    "import sklearn\n",
    "import sklearn.datasets\n",
    "import sklearn.linear_model\n",
    "import matplotlib\n",
    "import pandas as pd"
   ]
  },
  {
   "cell_type": "code",
   "execution_count": null,
   "id": "9ce4b6fc",
   "metadata": {
    "scrolled": true
   },
   "outputs": [],
   "source": [
    "from sklearn.linear_model import LogisticRegression\n",
    "from sklearn.naive_bayes import GaussianNB\n",
    "from sklearn.ensemble import RandomForestClassifier\n",
    "from sklearn.svm import SVC\n",
    "\n",
    "# Display plots inline and change default figure size\n",
    "%matplotlib inline\n",
    "matplotlib.rcParams['figure.figsize'] = (10.0, 8.0)\n",
    "# Train the logistic rgeression classifier\n",
    "clf = sklearn.linear_model.LogisticRegressionCV()\n",
    "clf.fit(X, y)\n",
    "\n",
    "# Helper function to plot a decision boundary.\n",
    "def plot_decision_boundary(pred_func):\n",
    "    # Set min and max values and give it some padding\n",
    "    x_min, x_max = X.loc[:, 0].min() - .5, X.loc[:, 0].max() + .5\n",
    "    y_min, y_max = X.loc[:, 1].min() - .5, X.loc[:, 1].max() + .5\n",
    "    h = 0.01\n",
    "    # Generate a grid of points with distance h between them\n",
    "    xx, yy = np.meshgrid(np.arange(x_min, x_max, h), np.arange(y_min, y_max, h))\n",
    "    # Predict the function value for the whole gid\n",
    "    Z = pred_func(np.c_[xx.ravel(), yy.ravel()])\n",
    "    Z = Z.reshape(xx.shape)\n",
    "    # Plot the contour and training examples\n",
    "    plt.contourf(xx, yy, Z, cmap=plt.cm.Spectral)\n",
    "    plt.scatter(X[:, 0], X[:, 1], c=y, cmap=plt.cm.Spectral)\n",
    "    \n",
    "# Plot the decision boundary\n",
    "plot_decision_boundary(lambda x: clf.predict(x))\n",
    "plt.title(\"Logistic Regression\")"
   ]
  },
  {
   "cell_type": "code",
   "execution_count": null,
   "id": "56b3d59f",
   "metadata": {},
   "outputs": [],
   "source": []
  },
  {
   "cell_type": "code",
   "execution_count": null,
   "id": "43671dbc",
   "metadata": {},
   "outputs": [],
   "source": [
    "#from sklearn.datasets import make_blobs\n",
    "from sklearn.metrics import accuracy_score\n",
    "from sklearn.model_selection import train_test_split\n",
    "from sklearn.tree import DecisionTreeClassifier\n",
    "\n",
    "# create a (quasi)random dataset\n",
    "N_SAMPLES = 1000\n",
    "N_CENTERS = 6\n",
    "\n",
    "\n",
    "X_train, X_test, y_train, y_test = train_test_split(X, y, test_size=0.33, random_state=42)\n",
    "\n",
    "# train and predict\n",
    "dt = DecisionTreeClassifier(max_leaf_nodes=12) # change this!\n",
    "dt.fit(X_train,y_train)\n",
    "\n",
    "# compute Accuracy\n",
    "train_acc = accuracy_score(y_true = y_train, y_pred = dt.predict(X_train))\n",
    "test_acc  = accuracy_score(y_true = y_test,  y_pred = dt.predict(X_test))\n",
    "print (\"Train Accuracy: {:.3f} - Test Accuracy: {:.3f}\".format(train_acc,test_acc) )\n",
    "\n",
    "#model_decision_boundary(dt, X_test, y_test)\n",
    "#plot_decision_boundary(lambda x: dt.predict(x))\n",
    "#plt.title(\"Decision Tree\")"
   ]
  },
  {
   "cell_type": "code",
   "execution_count": null,
   "id": "986be6ad",
   "metadata": {},
   "outputs": [],
   "source": [
    "from sklearn.datasets import make_moons\n",
    "from sklearn.model_selection import train_test_split\n",
    "from sklearn.tree import DecisionTreeClassifier\n",
    "from sklearn.metrics import accuracy_score\n",
    "\n",
    "#X, y = make_moons(n_samples=1000, noise=0.1)\n",
    "X_train, X_test, y_train, y_test = train_test_split(X, y, test_size=0.33, random_state=42)\n",
    "\n",
    "for max_leaves in range(2,20):\n",
    "    # train and predict\n",
    "    dt = DecisionTreeClassifier(max_leaf_nodes=max_leaves)\n",
    "    dt.fit(X_train,y_train)\n",
    "\n",
    "    # compute Accuracy\n",
    "    train_acc = accuracy_score(y_true = y_train, y_pred = dt.predict(X_train))\n",
    "    test_acc  = accuracy_score(y_true = y_test,  y_pred = dt.predict(X_test))\n",
    "    print (\"Train Accuracy: {:.3f} - Test Accuracy: {:.3f}\".format(train_acc,test_acc) )"
   ]
  },
  {
   "cell_type": "code",
   "execution_count": null,
   "id": "4257d72d",
   "metadata": {},
   "outputs": [],
   "source": [
    "from sklearn import tree\n",
    "from sklearn.metrics import accuracy_score\n",
    "\n",
    "#X, y = make_moons(n_samples=1000, noise=0.1)\n",
    "X_train, X_test, y_train, y_test = train_test_split(X, y, test_size=0.33, random_state=42)\n",
    "\n",
    "# train and predict\n",
    "dt = tree.DecisionTreeClassifier(max_depth=4) # change this!\n",
    "dt.fit(X_train,y_train)\n",
    "\n",
    "#model_decision_boundary(dt, X_test, y_test)"
   ]
  },
  {
   "cell_type": "code",
   "execution_count": null,
   "id": "fc4f1aef",
   "metadata": {},
   "outputs": [],
   "source": [
    "from sklearn.model_selection import train_test_split\n",
    "from sklearn import tree\n",
    "from sklearn.metrics import accuracy_score\n",
    "\n",
    "#X, y = make_moons(n_samples=1000, noise=0.1)\n",
    "X_train, X_test, y_train, y_test = train_test_split(X, y, test_size=0.33, random_state=42)\n",
    "\n",
    "for max_depth in range(2,20):\n",
    "    # train and predict\n",
    "    dt = tree.DecisionTreeClassifier(max_depth=max_depth,max_leaf_nodes=max_depth)\n",
    "    dt.fit(X_train,y_train)\n",
    "\n",
    "    # compute Accuracy\n",
    "    train_acc = accuracy_score(y_true = y_train, y_pred = dt.predict(X_train))\n",
    "    test_acc  = accuracy_score(y_true = y_test,  y_pred = dt.predict(X_test))\n",
    "    print (\"Train Accuracy: {:.3f} - Test Accuracy: {:.3f}\".format(train_acc,test_acc) )"
   ]
  },
  {
   "cell_type": "code",
   "execution_count": null,
   "id": "23fb2199-9bf5-4c81-b047-892f2327dd98",
   "metadata": {
    "scrolled": true
   },
   "outputs": [],
   "source": [
    "plt.figure(figsize=(61,61))\n",
    "sns.heatmap(dfPearson.corr(),linewidths=.1,cmap=\"YlGnBu\", annot=True)\n",
    "plt.yticks(rotation=0);"
   ]
  },
  {
   "cell_type": "code",
   "execution_count": null,
   "id": "c55f29f5-a37f-4444-803f-20d28b8694ab",
   "metadata": {},
   "outputs": [],
   "source": [
    "# data preparation\n",
    "# convert to float to have precise and homogenoues computation\n",
    "dataset = df_data.astype(float)\n",
    "print(\"dataset shape\", dataset.shape)\n",
    "\n",
    "# get features by removing id and class\n",
    "# remove id\n",
    "X = dataset.loc[:,:]\n",
    "print(\"X shape\", X.shape)\n",
    "\n",
    "# get class label\n",
    "y = dataset.index\n",
    "#y = dataset.loc[:,0]\n",
    "print(\"y shape\", y.shape)"
   ]
  },
  {
   "cell_type": "code",
   "execution_count": null,
   "id": "6ea23956-92a7-42d7-8587-db6a2c7be6ee",
   "metadata": {},
   "outputs": [],
   "source": [
    "from sklearn.model_selection import train_test_split\n",
    "\n",
    "X_train, X_test, y_train, y_test = train_test_split(\n",
    "    X, y, test_size=0.33, random_state=42)\n",
    "\n",
    "print (X_train.shape, X_test.shape)"
   ]
  },
  {
   "cell_type": "code",
   "execution_count": null,
   "id": "312c9773-3c50-4af6-b444-ffde11cd6274",
   "metadata": {},
   "outputs": [],
   "source": [
    "from sklearn.neighbors import KNeighborsClassifier\n",
    "from sklearn.metrics import accuracy_score\n",
    "\n",
    "# Create the classifier\n",
    "kNN = KNeighborsClassifier(n_neighbors=10)\n",
    "\n",
    "# Train the classifier\n",
    "kNN.fit(X_train,y_train)\n",
    "\n",
    "# Generate predictions\n",
    "y_pred = kNN.predict(X_test)\n",
    "\n",
    "# compute Accuracy\n",
    "acc = accuracy_score(y_true=y_test, y_pred=y_pred)\n",
    "print (f\"Accuracy {acc:.3f}\")"
   ]
  },
  {
   "cell_type": "code",
   "execution_count": null,
   "id": "5c5d26eb-31dd-4162-b603-d2be5b9b4aa6",
   "metadata": {},
   "outputs": [],
   "source": [
    "from sklearn.tree import DecisionTreeClassifier\n",
    "model = DecisionTreeClassifier()\n",
    "model.fit(X,y)"
   ]
  },
  {
   "cell_type": "code",
   "execution_count": null,
   "id": "55a75662-7357-4692-ace4-518c3dc737ab",
   "metadata": {},
   "outputs": [],
   "source": [
    "from sklearn.tree import plot_tree\n",
    "\n",
    "f_names = ['MS_SubClass', 'MS_Zoning', 'Lot_Frontage', 'Lot_Area', 'Street',\n",
    "       'Alley', 'Lot_Shape', 'Land_Contour', 'Utilities', 'Lot_Config',\n",
    "       'Land_Slope', 'Neighborhood', 'Condition_1', 'Condition_2', 'Bldg_Type',\n",
    "       'House_Style', 'Overall_Qual', 'Overall_Cond', 'Year_Built',\n",
    "       'Year_Remod_Add', 'Roof_Style', 'Roof_Matl', 'Exterior_1st',\n",
    "       'Exterior_2nd', 'Mas_Vnr_Type', 'Mas_Vnr_Area', 'Exter_Qual',\n",
    "       'Exter_Cond', 'Foundation', 'Bsmt_Qual', 'Bsmt_Cond', 'Bsmt_Exposure',\n",
    "       'BsmtFin_Type_1', 'BsmtFin_SF_1', 'BsmtFin_Type_2', 'BsmtFin_SF_2',\n",
    "       'Bsmt_Unf_SF', 'Total_Bsmt_SF', 'Heating', 'Heating_QC', 'Central_Air',\n",
    "       'Electrical', 'First_Flr_SF', 'Second_Flr_SF', 'Low_Qual_Fin_SF',\n",
    "       'Gr_Liv_Area', 'Bsmt_Full_Bath', 'Bsmt_Half_Bath', 'Full_Bath',\n",
    "       'Half_Bath', 'Bedroom_AbvGr', 'Kitchen_AbvGr', 'Kitchen_Qual',\n",
    "       'TotRms_AbvGrd', 'Functional', 'Fireplaces', 'Fireplace_Qu',\n",
    "       'Garage_Type', 'Garage_Finish', 'Garage_Cars', 'Garage_Area',\n",
    "       'Garage_Qual', 'Garage_Cond', 'Paved_Drive', 'Wood_Deck_SF',\n",
    "       'Open_Porch_SF', 'Enclosed_Porch', 'Three_season_porch', 'Screen_Porch',\n",
    "       'Pool_Area', 'Pool_QC', 'Fence', 'Misc_Feature', 'Misc_Val', 'Mo_Sold',\n",
    "       'Year_Sold', 'Sale_Type', 'Sale_Condition', 'Longitude',\n",
    "       'Latitude']\n",
    "c_names =  'Sale_Price'\n",
    "\n",
    "'''\n",
    "f_names = [\"Alcohol\",\"Malic acid\", \"Ash\", \"Alcalinity\", \"Magnesium\", \"Phenols\",\n",
    "            \"Flavanoids\", \"Nonflavanoid\", \"Proanthocyanins\", \"Color\", \"Hue\", \"ODs\", \"Proline\"]\n",
    "\n",
    "c_names = [\"Quality 1\",\"Quality 2\",\"Quality 3\"]\n",
    "'''\n",
    "\n",
    "fig, ax = plt.subplots(figsize=(500,275))\n",
    "plot_tree(model, ax=ax,\n",
    "         feature_names=f_names, class_names=c_names,  \n",
    "                                filled=True, rounded=True);"
   ]
  },
  {
   "cell_type": "code",
   "execution_count": null,
   "id": "7886e238-5dde-43aa-abb9-ccc3058b9bd3",
   "metadata": {},
   "outputs": [],
   "source": [
    "df_weka.head()"
   ]
  }
 ],
 "metadata": {
  "kernelspec": {
   "display_name": "Python 3 (ipykernel)",
   "language": "python",
   "name": "python3"
  },
  "language_info": {
   "codemirror_mode": {
    "name": "ipython",
    "version": 3
   },
   "file_extension": ".py",
   "mimetype": "text/x-python",
   "name": "python",
   "nbconvert_exporter": "python",
   "pygments_lexer": "ipython3",
   "version": "3.9.13"
  }
 },
 "nbformat": 4,
 "nbformat_minor": 5
}
